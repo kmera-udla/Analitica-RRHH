{
 "cells": [
  {
   "cell_type": "markdown",
   "id": "caa40e14-929e-4c88-ba23-d91b4e4c7712",
   "metadata": {},
   "source": [
    "# Segmentación de Empleados para Decisiones de RRHH\n",
    "\n",
    "---\n",
    "\n",
    "**Módulo:** Analítica de RRHH — *People Analytics*  \n",
    "**Autor:** Kléver Mera\n",
    "\n",
    "---\n",
    "\n",
    "**📊 Caso guía:**  \n",
    "RRHH de una empresa mediana en Ecuador que busca **diseñar planes de capacitación y acciones de retención**. Hay heterogeneidad en perfiles (edad, área, antigüedad, desempeño, satisfacción, ausentismo, formación). Se requiere **segmentar empleados** para adaptar **beneficios, programas de formación y planes de carrera** y **monitorear KPIs** de clima y rotación.\n",
    "\n",
    "> **💼 Qué obtendrás**  \n",
    "> - Un **pipeline reproducible** de segmentación (preprocesamiento → K-Means → evaluación) listo para producción.\n",
    "> - **EDA orientado a negocio**.\n",
    "> - **Selección de K** con **KElbowVisualizer (k_elbow)**.\n",
    "> - **Lectura de resultados** paso a paso con **insights** e **implicaciones**.\n",
    "> - **Acciones diferenciadas** por clúster: formación, retención, movilidad interna y bienestar.\n",
    "> - **Interpretación** con **Heatmap** de centroides y **PCA 2D**.\n",
    "> - **Artefactos** (`preprocess.pkl`, `kmeans.pkl`) para etiquetar nuevos empleados.\n",
    "> - **Plantillas ejecutivas**: perfiles por clúster (Top 2 / Low 2 features) y\n",
    "> - **Conclusión General**. 🧭"
   ]
  },
  {
   "cell_type": "markdown",
   "id": "0e4d3ba4-93cb-4f00-8763-0206e5f6cb43",
   "metadata": {},
   "source": [
    "\n",
    "## 🎯 Objetivo de negocio y reglas para elegir **K**\n",
    "Elegimos **K** considerando **viabilidad operativa** y **métricas**:\n",
    "- **Operativo**: segmentos accionables (p.ej., 3 a 6 grupos) y tamaños no triviales (≥ 5% de la plantilla).\n",
    "- **Analítico**: Método del **codo** para definir el número de clusters en función de la inercia.\n",
    "- **Contexto RRHH**: que cada clúster inspire **acciones diferenciadas** (formación, retención, movilidad interna, bienestar)."
   ]
  },
  {
   "cell_type": "markdown",
   "id": "68bbd7ca-ea7b-4731-911e-1c5837af0424",
   "metadata": {},
   "source": [
    "## 📋 Contenido del Dataset\n",
    "\n",
    "El dataset contiene información sobre empleados y sus características. Estas incluyen tanto variables numéricas como categóricas. A continuación, se detallan las principales columnas:\n",
    "\n",
    "**Variables numéricas**:\n",
    "  - `edad`: Edad del empleado.\n",
    "  - `cumplimiento_kpi`: Nivel de cumplimiento de indicadores clave de desempeño.\n",
    "  - `puntaje_productividad`: Puntuación de productividad.\n",
    "  - `puntaje_iniciativa`: Nivel de iniciativa del empleado.\n",
    "  - `satisfaccion_laboral`: Nivel de satisfacción laboral (escala de 1 a 10).\n",
    "  - `horas_capacitacion`: Horas de capacitación recibidas.\n",
    "  - `puntaje_feedback_lider`: Calificación del feedback recibido de sus líderes.\n",
    "  - `antiguedad`: Años de antigüedad en la empresa.\n",
    "  - `promocion_ultimos_2_anos`: Indicador binario que señala si el empleado fue promovido en los últimos dos años (1: sí, 0: no).\n",
    "    \n",
    "\n",
    "**Variables categóricas**:\n",
    "  - `genero`: Género del empleado (Masculino/Femenino).\n",
    "  - `nivel_educativo`: Nivel educativo alcanzado (Secundaria, Licenciatura, Maestría, Doctorado).\n",
    "  - `balance_trabajo_vida`: Nivel de equilibrio entre trabajo y vida personal (Bajo, Medio, Alto).\n",
    "  - `evaluacion_liderazgo`: Evaluación del liderazgo recibido (Bajo, Medio, Alto).\n",
    "  - `categoria_desempeno`: Clasificación general del desempeño (Bajo, Medio, Alto)."
   ]
  },
  {
   "cell_type": "code",
   "execution_count": null,
   "id": "40328f1d-edd0-4497-8be1-034fa63e5c86",
   "metadata": {},
   "outputs": [],
   "source": []
  },
  {
   "cell_type": "markdown",
   "id": "f85c9aa0-4ee8-4e87-9db3-673a28d7f33b",
   "metadata": {},
   "source": [
    "## 1. CARGA Y EXPLORACIÓN DE DATOS"
   ]
  },
  {
   "cell_type": "code",
   "execution_count": 1,
   "id": "a6adc909-5c68-49ad-b40c-0d610950f997",
   "metadata": {},
   "outputs": [],
   "source": [
    "import os, sys, json, joblib, platform, warnings\n",
    "warnings.filterwarnings('ignore')\n",
    "\n",
    "import numpy as np\n",
    "import pandas as pd\n",
    "\n",
    "from sklearn.preprocessing import StandardScaler\n",
    "from sklearn.pipeline import Pipeline\n",
    "from sklearn.cluster import KMeans\n",
    "from sklearn.decomposition import PCA\n",
    "from sklearn.metrics import silhouette_score, calinski_harabasz_score, davies_bouldin_score\n",
    "from scipy.stats import chi2_contingency\n",
    "import matplotlib.pyplot as plt\n",
    "import seaborn as sns\n",
    "\n",
    "RANDOM_STATE = 42\n",
    "np.random.seed(RANDOM_STATE)"
   ]
  },
  {
   "cell_type": "code",
   "execution_count": 2,
   "id": "69d5e852-b94e-49a5-bacd-795312687752",
   "metadata": {},
   "outputs": [
    {
     "name": "stdout",
     "output_type": "stream",
     "text": [
      "================================================================================\n",
      "ANÁLISIS DEL CONJUNTO DE DATOS DE EMPLEADOS\n",
      "================================================================================\n",
      "\n",
      "\n"
     ]
    },
    {
     "data": {
      "text/html": [
       "<div>\n",
       "<style scoped>\n",
       "    .dataframe tbody tr th:only-of-type {\n",
       "        vertical-align: middle;\n",
       "    }\n",
       "\n",
       "    .dataframe tbody tr th {\n",
       "        vertical-align: top;\n",
       "    }\n",
       "\n",
       "    .dataframe thead th {\n",
       "        text-align: right;\n",
       "    }\n",
       "</style>\n",
       "<table border=\"1\" class=\"dataframe\">\n",
       "  <thead>\n",
       "    <tr style=\"text-align: right;\">\n",
       "      <th></th>\n",
       "      <th>id_empleado</th>\n",
       "      <th>edad</th>\n",
       "      <th>genero</th>\n",
       "      <th>nivel_educativo</th>\n",
       "      <th>cumplimiento_kpi</th>\n",
       "      <th>puntaje_productividad</th>\n",
       "      <th>puntaje_iniciativa</th>\n",
       "      <th>satisfaccion_laboral</th>\n",
       "      <th>balance_trabajo_vida</th>\n",
       "      <th>horas_capacitacion</th>\n",
       "      <th>puntaje_feedback_lider</th>\n",
       "      <th>evaluacion_liderazgo</th>\n",
       "      <th>antiguedad</th>\n",
       "      <th>promocion_ultimos_2_anos</th>\n",
       "      <th>categoria_desempeno</th>\n",
       "    </tr>\n",
       "  </thead>\n",
       "  <tbody>\n",
       "    <tr>\n",
       "      <th>0</th>\n",
       "      <td>E0001</td>\n",
       "      <td>50</td>\n",
       "      <td>Femenino</td>\n",
       "      <td>Licenciatura</td>\n",
       "      <td>72</td>\n",
       "      <td>76</td>\n",
       "      <td>90</td>\n",
       "      <td>10</td>\n",
       "      <td>Medio</td>\n",
       "      <td>46</td>\n",
       "      <td>1.3</td>\n",
       "      <td>Baja</td>\n",
       "      <td>2</td>\n",
       "      <td>1</td>\n",
       "      <td>Medio</td>\n",
       "    </tr>\n",
       "    <tr>\n",
       "      <th>1</th>\n",
       "      <td>E0002</td>\n",
       "      <td>36</td>\n",
       "      <td>Femenino</td>\n",
       "      <td>Licenciatura</td>\n",
       "      <td>59</td>\n",
       "      <td>72</td>\n",
       "      <td>100</td>\n",
       "      <td>2</td>\n",
       "      <td>Alto</td>\n",
       "      <td>8</td>\n",
       "      <td>1.5</td>\n",
       "      <td>Media</td>\n",
       "      <td>14</td>\n",
       "      <td>1</td>\n",
       "      <td>Alto</td>\n",
       "    </tr>\n",
       "    <tr>\n",
       "      <th>2</th>\n",
       "      <td>E0003</td>\n",
       "      <td>29</td>\n",
       "      <td>Masculino</td>\n",
       "      <td>Secundaria</td>\n",
       "      <td>60</td>\n",
       "      <td>73</td>\n",
       "      <td>75</td>\n",
       "      <td>10</td>\n",
       "      <td>Medio</td>\n",
       "      <td>9</td>\n",
       "      <td>3.6</td>\n",
       "      <td>Media</td>\n",
       "      <td>16</td>\n",
       "      <td>0</td>\n",
       "      <td>Alto</td>\n",
       "    </tr>\n",
       "    <tr>\n",
       "      <th>3</th>\n",
       "      <td>E0004</td>\n",
       "      <td>42</td>\n",
       "      <td>Femenino</td>\n",
       "      <td>Doctorado</td>\n",
       "      <td>90</td>\n",
       "      <td>58</td>\n",
       "      <td>61</td>\n",
       "      <td>5</td>\n",
       "      <td>Medio</td>\n",
       "      <td>7</td>\n",
       "      <td>2.4</td>\n",
       "      <td>Baja</td>\n",
       "      <td>13</td>\n",
       "      <td>0</td>\n",
       "      <td>Medio</td>\n",
       "    </tr>\n",
       "    <tr>\n",
       "      <th>4</th>\n",
       "      <td>E0005</td>\n",
       "      <td>40</td>\n",
       "      <td>Femenino</td>\n",
       "      <td>Maestría</td>\n",
       "      <td>90</td>\n",
       "      <td>84</td>\n",
       "      <td>44</td>\n",
       "      <td>6</td>\n",
       "      <td>Bajo</td>\n",
       "      <td>20</td>\n",
       "      <td>3.8</td>\n",
       "      <td>Media</td>\n",
       "      <td>15</td>\n",
       "      <td>0</td>\n",
       "      <td>Bajo</td>\n",
       "    </tr>\n",
       "  </tbody>\n",
       "</table>\n",
       "</div>"
      ],
      "text/plain": [
       "  id_empleado  edad     genero nivel_educativo  cumplimiento_kpi  \\\n",
       "0       E0001    50   Femenino    Licenciatura                72   \n",
       "1       E0002    36   Femenino    Licenciatura                59   \n",
       "2       E0003    29  Masculino      Secundaria                60   \n",
       "3       E0004    42   Femenino       Doctorado                90   \n",
       "4       E0005    40   Femenino        Maestría                90   \n",
       "\n",
       "   puntaje_productividad  puntaje_iniciativa  satisfaccion_laboral  \\\n",
       "0                     76                  90                    10   \n",
       "1                     72                 100                     2   \n",
       "2                     73                  75                    10   \n",
       "3                     58                  61                     5   \n",
       "4                     84                  44                     6   \n",
       "\n",
       "  balance_trabajo_vida  horas_capacitacion  puntaje_feedback_lider  \\\n",
       "0                Medio                  46                     1.3   \n",
       "1                 Alto                   8                     1.5   \n",
       "2                Medio                   9                     3.6   \n",
       "3                Medio                   7                     2.4   \n",
       "4                 Bajo                  20                     3.8   \n",
       "\n",
       "  evaluacion_liderazgo  antiguedad  promocion_ultimos_2_anos  \\\n",
       "0                 Baja           2                         1   \n",
       "1                Media          14                         1   \n",
       "2                Media          16                         0   \n",
       "3                 Baja          13                         0   \n",
       "4                Media          15                         0   \n",
       "\n",
       "  categoria_desempeno  \n",
       "0               Medio  \n",
       "1                Alto  \n",
       "2                Alto  \n",
       "3               Medio  \n",
       "4                Bajo  "
      ]
     },
     "metadata": {},
     "output_type": "display_data"
    },
    {
     "name": "stdout",
     "output_type": "stream",
     "text": [
      "Shape del dataset: (1000, 15)\n"
     ]
    }
   ],
   "source": [
    "print(\"=\"*80)\n",
    "print(\"ANÁLISIS DEL CONJUNTO DE DATOS DE EMPLEADOS\")\n",
    "print(\"=\"*80)\n",
    "print(\"\\n\")\n",
    "# carga del dataset\n",
    "DATA_PATH = 'dataset_segmentacion_empleados.csv'\n",
    "df = pd.read_csv(DATA_PATH)\n",
    "display(df.head())\n",
    "\n",
    "print(f\"Shape del dataset: {df.shape}\")\n"
   ]
  },
  {
   "cell_type": "code",
   "execution_count": null,
   "id": "6d4110ee-91d8-477e-a12f-4f4a5d77a96c",
   "metadata": {},
   "outputs": [],
   "source": []
  },
  {
   "cell_type": "markdown",
   "id": "1e2de6e7-4baa-47d8-ae92-0835df230104",
   "metadata": {},
   "source": [
    "## 2. ANALISIS EXPLORATORIO DE DATOS"
   ]
  },
  {
   "cell_type": "code",
   "execution_count": 3,
   "id": "4a95305e-5842-4b23-bd8e-275db274c6a5",
   "metadata": {},
   "outputs": [
    {
     "data": {
      "text/html": [
       "<div>\n",
       "<style scoped>\n",
       "    .dataframe tbody tr th:only-of-type {\n",
       "        vertical-align: middle;\n",
       "    }\n",
       "\n",
       "    .dataframe tbody tr th {\n",
       "        vertical-align: top;\n",
       "    }\n",
       "\n",
       "    .dataframe thead th {\n",
       "        text-align: right;\n",
       "    }\n",
       "</style>\n",
       "<table border=\"1\" class=\"dataframe\">\n",
       "  <thead>\n",
       "    <tr style=\"text-align: right;\">\n",
       "      <th></th>\n",
       "      <th>col</th>\n",
       "      <th>dtype</th>\n",
       "      <th>n_null</th>\n",
       "      <th>n_unique</th>\n",
       "    </tr>\n",
       "  </thead>\n",
       "  <tbody>\n",
       "    <tr>\n",
       "      <th>10</th>\n",
       "      <td>puntaje_feedback_lider</td>\n",
       "      <td>float64</td>\n",
       "      <td>0</td>\n",
       "      <td>41</td>\n",
       "    </tr>\n",
       "    <tr>\n",
       "      <th>13</th>\n",
       "      <td>promocion_ultimos_2_anos</td>\n",
       "      <td>int64</td>\n",
       "      <td>0</td>\n",
       "      <td>2</td>\n",
       "    </tr>\n",
       "    <tr>\n",
       "      <th>7</th>\n",
       "      <td>satisfaccion_laboral</td>\n",
       "      <td>int64</td>\n",
       "      <td>0</td>\n",
       "      <td>10</td>\n",
       "    </tr>\n",
       "    <tr>\n",
       "      <th>12</th>\n",
       "      <td>antiguedad</td>\n",
       "      <td>int64</td>\n",
       "      <td>0</td>\n",
       "      <td>19</td>\n",
       "    </tr>\n",
       "    <tr>\n",
       "      <th>1</th>\n",
       "      <td>edad</td>\n",
       "      <td>int64</td>\n",
       "      <td>0</td>\n",
       "      <td>38</td>\n",
       "    </tr>\n",
       "    <tr>\n",
       "      <th>9</th>\n",
       "      <td>horas_capacitacion</td>\n",
       "      <td>int64</td>\n",
       "      <td>0</td>\n",
       "      <td>50</td>\n",
       "    </tr>\n",
       "    <tr>\n",
       "      <th>4</th>\n",
       "      <td>cumplimiento_kpi</td>\n",
       "      <td>int64</td>\n",
       "      <td>0</td>\n",
       "      <td>51</td>\n",
       "    </tr>\n",
       "    <tr>\n",
       "      <th>5</th>\n",
       "      <td>puntaje_productividad</td>\n",
       "      <td>int64</td>\n",
       "      <td>0</td>\n",
       "      <td>51</td>\n",
       "    </tr>\n",
       "    <tr>\n",
       "      <th>6</th>\n",
       "      <td>puntaje_iniciativa</td>\n",
       "      <td>int64</td>\n",
       "      <td>0</td>\n",
       "      <td>71</td>\n",
       "    </tr>\n",
       "    <tr>\n",
       "      <th>2</th>\n",
       "      <td>genero</td>\n",
       "      <td>object</td>\n",
       "      <td>0</td>\n",
       "      <td>3</td>\n",
       "    </tr>\n",
       "    <tr>\n",
       "      <th>8</th>\n",
       "      <td>balance_trabajo_vida</td>\n",
       "      <td>object</td>\n",
       "      <td>0</td>\n",
       "      <td>3</td>\n",
       "    </tr>\n",
       "    <tr>\n",
       "      <th>11</th>\n",
       "      <td>evaluacion_liderazgo</td>\n",
       "      <td>object</td>\n",
       "      <td>0</td>\n",
       "      <td>3</td>\n",
       "    </tr>\n",
       "    <tr>\n",
       "      <th>14</th>\n",
       "      <td>categoria_desempeno</td>\n",
       "      <td>object</td>\n",
       "      <td>0</td>\n",
       "      <td>3</td>\n",
       "    </tr>\n",
       "    <tr>\n",
       "      <th>3</th>\n",
       "      <td>nivel_educativo</td>\n",
       "      <td>object</td>\n",
       "      <td>0</td>\n",
       "      <td>4</td>\n",
       "    </tr>\n",
       "    <tr>\n",
       "      <th>0</th>\n",
       "      <td>id_empleado</td>\n",
       "      <td>object</td>\n",
       "      <td>0</td>\n",
       "      <td>1000</td>\n",
       "    </tr>\n",
       "  </tbody>\n",
       "</table>\n",
       "</div>"
      ],
      "text/plain": [
       "                         col    dtype  n_null  n_unique\n",
       "10    puntaje_feedback_lider  float64       0        41\n",
       "13  promocion_ultimos_2_anos    int64       0         2\n",
       "7       satisfaccion_laboral    int64       0        10\n",
       "12                antiguedad    int64       0        19\n",
       "1                       edad    int64       0        38\n",
       "9         horas_capacitacion    int64       0        50\n",
       "4           cumplimiento_kpi    int64       0        51\n",
       "5      puntaje_productividad    int64       0        51\n",
       "6         puntaje_iniciativa    int64       0        71\n",
       "2                     genero   object       0         3\n",
       "8       balance_trabajo_vida   object       0         3\n",
       "11      evaluacion_liderazgo   object       0         3\n",
       "14       categoria_desempeno   object       0         3\n",
       "3            nivel_educativo   object       0         4\n",
       "0                id_empleado   object       0      1000"
      ]
     },
     "metadata": {},
     "output_type": "display_data"
    }
   ],
   "source": [
    "# Diccionario resumido\n",
    "info = pd.DataFrame({\n",
    "    \"col\": df.columns,\n",
    "    \"dtype\": [str(t) for t in df.dtypes],\n",
    "    \"n_null\": df.isna().sum().values,\n",
    "    \"n_unique\": [df[c].nunique(dropna=True) for c in df.columns]\n",
    "}).sort_values([\"dtype\", \"n_unique\"])\n",
    "display(info.head(20))"
   ]
  },
  {
   "cell_type": "markdown",
   "id": "a07afe8c-3ad5-461a-8695-534ece026aed",
   "metadata": {},
   "source": [
    "### Salud de datos"
   ]
  },
  {
   "cell_type": "code",
   "execution_count": 4,
   "id": "bd62d116-4fce-42b1-b0b4-eb0e8f45ce98",
   "metadata": {},
   "outputs": [
    {
     "name": "stdout",
     "output_type": "stream",
     "text": [
      "Duplicados: 0\n"
     ]
    },
    {
     "data": {
      "text/plain": [
       "id_empleado                 0\n",
       "edad                        0\n",
       "genero                      0\n",
       "nivel_educativo             0\n",
       "cumplimiento_kpi            0\n",
       "puntaje_productividad       0\n",
       "puntaje_iniciativa          0\n",
       "satisfaccion_laboral        0\n",
       "balance_trabajo_vida        0\n",
       "horas_capacitacion          0\n",
       "puntaje_feedback_lider      0\n",
       "evaluacion_liderazgo        0\n",
       "antiguedad                  0\n",
       "promocion_ultimos_2_anos    0\n",
       "categoria_desempeno         0\n",
       "dtype: int64"
      ]
     },
     "metadata": {},
     "output_type": "display_data"
    },
    {
     "data": {
      "text/html": [
       "<div>\n",
       "<style scoped>\n",
       "    .dataframe tbody tr th:only-of-type {\n",
       "        vertical-align: middle;\n",
       "    }\n",
       "\n",
       "    .dataframe tbody tr th {\n",
       "        vertical-align: top;\n",
       "    }\n",
       "\n",
       "    .dataframe thead th {\n",
       "        text-align: right;\n",
       "    }\n",
       "</style>\n",
       "<table border=\"1\" class=\"dataframe\">\n",
       "  <thead>\n",
       "    <tr style=\"text-align: right;\">\n",
       "      <th></th>\n",
       "      <th>count</th>\n",
       "      <th>mean</th>\n",
       "      <th>std</th>\n",
       "      <th>min</th>\n",
       "      <th>25%</th>\n",
       "      <th>50%</th>\n",
       "      <th>75%</th>\n",
       "      <th>max</th>\n",
       "    </tr>\n",
       "  </thead>\n",
       "  <tbody>\n",
       "    <tr>\n",
       "      <th>edad</th>\n",
       "      <td>1000.0</td>\n",
       "      <td>40.9470</td>\n",
       "      <td>11.160858</td>\n",
       "      <td>22.0</td>\n",
       "      <td>31.0</td>\n",
       "      <td>42.0</td>\n",
       "      <td>50.0</td>\n",
       "      <td>59.0</td>\n",
       "    </tr>\n",
       "    <tr>\n",
       "      <th>cumplimiento_kpi</th>\n",
       "      <td>1000.0</td>\n",
       "      <td>74.9920</td>\n",
       "      <td>14.974852</td>\n",
       "      <td>50.0</td>\n",
       "      <td>62.0</td>\n",
       "      <td>75.0</td>\n",
       "      <td>88.0</td>\n",
       "      <td>100.0</td>\n",
       "    </tr>\n",
       "    <tr>\n",
       "      <th>puntaje_productividad</th>\n",
       "      <td>1000.0</td>\n",
       "      <td>74.9570</td>\n",
       "      <td>14.409469</td>\n",
       "      <td>50.0</td>\n",
       "      <td>63.0</td>\n",
       "      <td>74.0</td>\n",
       "      <td>88.0</td>\n",
       "      <td>100.0</td>\n",
       "    </tr>\n",
       "    <tr>\n",
       "      <th>puntaje_iniciativa</th>\n",
       "      <td>1000.0</td>\n",
       "      <td>65.2130</td>\n",
       "      <td>20.422505</td>\n",
       "      <td>30.0</td>\n",
       "      <td>47.0</td>\n",
       "      <td>66.0</td>\n",
       "      <td>83.0</td>\n",
       "      <td>100.0</td>\n",
       "    </tr>\n",
       "    <tr>\n",
       "      <th>satisfaccion_laboral</th>\n",
       "      <td>1000.0</td>\n",
       "      <td>5.5640</td>\n",
       "      <td>2.886215</td>\n",
       "      <td>1.0</td>\n",
       "      <td>3.0</td>\n",
       "      <td>5.5</td>\n",
       "      <td>8.0</td>\n",
       "      <td>10.0</td>\n",
       "    </tr>\n",
       "    <tr>\n",
       "      <th>horas_capacitacion</th>\n",
       "      <td>1000.0</td>\n",
       "      <td>24.0590</td>\n",
       "      <td>14.470346</td>\n",
       "      <td>0.0</td>\n",
       "      <td>12.0</td>\n",
       "      <td>24.0</td>\n",
       "      <td>36.0</td>\n",
       "      <td>49.0</td>\n",
       "    </tr>\n",
       "    <tr>\n",
       "      <th>puntaje_feedback_lider</th>\n",
       "      <td>1000.0</td>\n",
       "      <td>2.9271</td>\n",
       "      <td>1.139691</td>\n",
       "      <td>1.0</td>\n",
       "      <td>1.9</td>\n",
       "      <td>2.9</td>\n",
       "      <td>3.9</td>\n",
       "      <td>5.0</td>\n",
       "    </tr>\n",
       "    <tr>\n",
       "      <th>antiguedad</th>\n",
       "      <td>1000.0</td>\n",
       "      <td>10.2820</td>\n",
       "      <td>5.502977</td>\n",
       "      <td>1.0</td>\n",
       "      <td>5.0</td>\n",
       "      <td>10.0</td>\n",
       "      <td>15.0</td>\n",
       "      <td>19.0</td>\n",
       "    </tr>\n",
       "    <tr>\n",
       "      <th>promocion_ultimos_2_anos</th>\n",
       "      <td>1000.0</td>\n",
       "      <td>0.2140</td>\n",
       "      <td>0.410332</td>\n",
       "      <td>0.0</td>\n",
       "      <td>0.0</td>\n",
       "      <td>0.0</td>\n",
       "      <td>0.0</td>\n",
       "      <td>1.0</td>\n",
       "    </tr>\n",
       "  </tbody>\n",
       "</table>\n",
       "</div>"
      ],
      "text/plain": [
       "                           count     mean        std   min   25%   50%   75%  \\\n",
       "edad                      1000.0  40.9470  11.160858  22.0  31.0  42.0  50.0   \n",
       "cumplimiento_kpi          1000.0  74.9920  14.974852  50.0  62.0  75.0  88.0   \n",
       "puntaje_productividad     1000.0  74.9570  14.409469  50.0  63.0  74.0  88.0   \n",
       "puntaje_iniciativa        1000.0  65.2130  20.422505  30.0  47.0  66.0  83.0   \n",
       "satisfaccion_laboral      1000.0   5.5640   2.886215   1.0   3.0   5.5   8.0   \n",
       "horas_capacitacion        1000.0  24.0590  14.470346   0.0  12.0  24.0  36.0   \n",
       "puntaje_feedback_lider    1000.0   2.9271   1.139691   1.0   1.9   2.9   3.9   \n",
       "antiguedad                1000.0  10.2820   5.502977   1.0   5.0  10.0  15.0   \n",
       "promocion_ultimos_2_anos  1000.0   0.2140   0.410332   0.0   0.0   0.0   0.0   \n",
       "\n",
       "                            max  \n",
       "edad                       59.0  \n",
       "cumplimiento_kpi          100.0  \n",
       "puntaje_productividad     100.0  \n",
       "puntaje_iniciativa        100.0  \n",
       "satisfaccion_laboral       10.0  \n",
       "horas_capacitacion         49.0  \n",
       "puntaje_feedback_lider      5.0  \n",
       "antiguedad                 19.0  \n",
       "promocion_ultimos_2_anos    1.0  "
      ]
     },
     "metadata": {},
     "output_type": "display_data"
    },
    {
     "name": "stdout",
     "output_type": "stream",
     "text": [
      "\n",
      "[categórica] id_empleado\n"
     ]
    },
    {
     "data": {
      "text/plain": [
       "id_empleado\n",
       "E1000    1\n",
       "E0001    1\n",
       "E0002    1\n",
       "E0003    1\n",
       "E0004    1\n",
       "E0005    1\n",
       "E0006    1\n",
       "E0007    1\n",
       "E0984    1\n",
       "E0983    1\n",
       "Name: count, dtype: int64"
      ]
     },
     "metadata": {},
     "output_type": "display_data"
    },
    {
     "name": "stdout",
     "output_type": "stream",
     "text": [
      "\n",
      "[categórica] genero\n"
     ]
    },
    {
     "data": {
      "text/plain": [
       "genero\n",
       "Femenino     471\n",
       "Masculino    434\n",
       "Otro          95\n",
       "Name: count, dtype: int64"
      ]
     },
     "metadata": {},
     "output_type": "display_data"
    },
    {
     "name": "stdout",
     "output_type": "stream",
     "text": [
      "\n",
      "[categórica] nivel_educativo\n"
     ]
    },
    {
     "data": {
      "text/plain": [
       "nivel_educativo\n",
       "Licenciatura    385\n",
       "Secundaria      294\n",
       "Maestría        269\n",
       "Doctorado        52\n",
       "Name: count, dtype: int64"
      ]
     },
     "metadata": {},
     "output_type": "display_data"
    },
    {
     "name": "stdout",
     "output_type": "stream",
     "text": [
      "\n",
      "[categórica] balance_trabajo_vida\n"
     ]
    },
    {
     "data": {
      "text/plain": [
       "balance_trabajo_vida\n",
       "Medio    492\n",
       "Bajo     256\n",
       "Alto     252\n",
       "Name: count, dtype: int64"
      ]
     },
     "metadata": {},
     "output_type": "display_data"
    },
    {
     "name": "stdout",
     "output_type": "stream",
     "text": [
      "\n",
      "[categórica] evaluacion_liderazgo\n"
     ]
    },
    {
     "data": {
      "text/plain": [
       "evaluacion_liderazgo\n",
       "Media    518\n",
       "Baja     290\n",
       "Alta     192\n",
       "Name: count, dtype: int64"
      ]
     },
     "metadata": {},
     "output_type": "display_data"
    },
    {
     "name": "stdout",
     "output_type": "stream",
     "text": [
      "\n",
      "[categórica] categoria_desempeno\n"
     ]
    },
    {
     "data": {
      "text/plain": [
       "categoria_desempeno\n",
       "Medio    383\n",
       "Alto     309\n",
       "Bajo     308\n",
       "Name: count, dtype: int64"
      ]
     },
     "metadata": {},
     "output_type": "display_data"
    }
   ],
   "source": [
    "print(\"Duplicados:\", df.duplicated().sum())\n",
    "display(df.isna().sum().sort_values(ascending=False).head(15))\n",
    "\n",
    "# Resumen numérico\n",
    "num_cols = [feat for feat in df.columns if df[feat].dtype != 'O']\n",
    "if len(num_cols) > 0:\n",
    "    display(df[num_cols].describe(percentiles=[.25,.5,.75]).T)\n",
    "\n",
    "# Frecuencias de categóricas (top 8 columnas por vista)\n",
    "for c in df.select_dtypes(include=['object']).columns[:8]:\n",
    "    print(f\"\\n[categórica] {c}\")\n",
    "    display(df[c].value_counts(dropna=False).head(10))"
   ]
  },
  {
   "cell_type": "markdown",
   "id": "d9daaa70-2235-41cc-80d2-0fdbcd76192b",
   "metadata": {},
   "source": [
    "## Propósito y preguntas de negocio"
   ]
  },
  {
   "cell_type": "code",
   "execution_count": 5,
   "id": "0e8c7958-20a9-4284-8370-9b8490608198",
   "metadata": {},
   "outputs": [],
   "source": [
    "# indicador de desempeño 'Bajo'\n",
    "df['es_bajo'] = (df['categoria_desempeno'].astype(str).str.lower() == 'bajo').astype(int)\n",
    "\n",
    "# Para algunos análisis por tramos de antigüedad (quintiles)\n",
    "df['antiguedad_q'] = pd.qcut(df['antiguedad'], q=5, labels=[f\"Q{i}\" for i in range(1,6)]) "
   ]
  },
  {
   "cell_type": "markdown",
   "id": "9a4ab45f-f92f-4667-bf6b-5261f1258eb1",
   "metadata": {},
   "source": [
    "1) **¿Qué género tiene peor desempeño promedio y menor cumplimiento de KPI?**"
   ]
  },
  {
   "cell_type": "code",
   "execution_count": 6,
   "id": "7d9272ff-51f2-47ab-b8e7-5dcf00b62b77",
   "metadata": {},
   "outputs": [
    {
     "data": {
      "text/html": [
       "<div>\n",
       "<style scoped>\n",
       "    .dataframe tbody tr th:only-of-type {\n",
       "        vertical-align: middle;\n",
       "    }\n",
       "\n",
       "    .dataframe tbody tr th {\n",
       "        vertical-align: top;\n",
       "    }\n",
       "\n",
       "    .dataframe thead th {\n",
       "        text-align: right;\n",
       "    }\n",
       "</style>\n",
       "<table border=\"1\" class=\"dataframe\">\n",
       "  <thead>\n",
       "    <tr style=\"text-align: right;\">\n",
       "      <th></th>\n",
       "      <th>puntaje_productividad</th>\n",
       "      <th>cumplimiento_kpi</th>\n",
       "      <th>puntaje_iniciativa</th>\n",
       "      <th>satisfaccion_laboral</th>\n",
       "      <th>horas_capacitacion</th>\n",
       "      <th>es_bajo</th>\n",
       "    </tr>\n",
       "    <tr>\n",
       "      <th>genero</th>\n",
       "      <th></th>\n",
       "      <th></th>\n",
       "      <th></th>\n",
       "      <th></th>\n",
       "      <th></th>\n",
       "      <th></th>\n",
       "    </tr>\n",
       "  </thead>\n",
       "  <tbody>\n",
       "    <tr>\n",
       "      <th>Otro</th>\n",
       "      <td>75.063158</td>\n",
       "      <td>76.726316</td>\n",
       "      <td>64.294737</td>\n",
       "      <td>5.800000</td>\n",
       "      <td>27.000000</td>\n",
       "      <td>0.368421</td>\n",
       "    </tr>\n",
       "    <tr>\n",
       "      <th>Femenino</th>\n",
       "      <td>74.749469</td>\n",
       "      <td>74.430998</td>\n",
       "      <td>64.855626</td>\n",
       "      <td>5.380042</td>\n",
       "      <td>23.639066</td>\n",
       "      <td>0.318471</td>\n",
       "    </tr>\n",
       "    <tr>\n",
       "      <th>Masculino</th>\n",
       "      <td>75.158986</td>\n",
       "      <td>75.221198</td>\n",
       "      <td>65.801843</td>\n",
       "      <td>5.711982</td>\n",
       "      <td>23.870968</td>\n",
       "      <td>0.283410</td>\n",
       "    </tr>\n",
       "  </tbody>\n",
       "</table>\n",
       "</div>"
      ],
      "text/plain": [
       "           puntaje_productividad  cumplimiento_kpi  puntaje_iniciativa  \\\n",
       "genero                                                                   \n",
       "Otro                   75.063158         76.726316           64.294737   \n",
       "Femenino               74.749469         74.430998           64.855626   \n",
       "Masculino              75.158986         75.221198           65.801843   \n",
       "\n",
       "           satisfaccion_laboral  horas_capacitacion   es_bajo  \n",
       "genero                                                         \n",
       "Otro                   5.800000           27.000000  0.368421  \n",
       "Femenino               5.380042           23.639066  0.318471  \n",
       "Masculino              5.711982           23.870968  0.283410  "
      ]
     },
     "metadata": {},
     "output_type": "display_data"
    }
   ],
   "source": [
    "cols = ['puntaje_productividad','cumplimiento_kpi','puntaje_iniciativa',\n",
    "        'satisfaccion_laboral','balance_trabajo_vida','horas_capacitacion']\n",
    "out = (df.groupby('genero')[cols + ['es_bajo']]\n",
    "         .mean(numeric_only=True)\n",
    "         .sort_values('es_bajo', ascending=False))\n",
    "display(out)"
   ]
  },
  {
   "cell_type": "markdown",
   "id": "d6059f5a-0b66-483c-86c1-ea9051575cf3",
   "metadata": {},
   "source": [
    "### 🔎 Hallazgos e implicaciones\n",
    "\n",
    "**Qué se ve:**\n",
    "\n",
    "* **KPI promedio más bajo:** Femenino (≈74.43); luego Masculino (≈75.22) y Otro (≈76.73).\n",
    "* **Productividad promedio más baja:** Femenino (≈74.75) vs Masculino (≈75.16) y Otro (≈75.06).\n",
    "* **Mayor proporción de “bajo desempeño” (`es_bajo`):** grupo **Otro** (\\~0.37), luego **Femenino** (\\~0.32) y **Masculino** el menor (\\~0.28).\n",
    "* **Satisfacción laboral:** más baja en **Femenino** (\\~5.38).\n",
    "* **Horas de capacitación:** más altas en **Otro** (\\~27), similares en Femenino/Masculino (\\~23.6–23.9).\n",
    "\n",
    "**Cómo leer:**\n",
    "\n",
    "* “**Peor desempeño promedio**” puede leerse con `es_bajo` (mayor = peor) y/o productividad media (menor = peor).\n",
    "* Para **KPI**, el **peor cumplimiento** es **Femenino**.\n",
    "* El grupo **Otro** combina KPI alto con `es_bajo` alto → posible **polarización** (subgrupos) y/o **n tamaño pequeño**; interpretar con cautela.\n",
    "* Diferencias son **moderadas**, conviene validar con **tamaños de muestra** y/o pruebas de significancia antes de decisiones estructurales.\n",
    "\n",
    "**Implicaciones para RRHH:**\n",
    "\n",
    "* **Femenino:** foco en **mejorar cumplimiento de KPI** y **satisfacción**: revisión de metas/recursos, coaching de desempeño, mentoring, reconocimiento y ajustes de carga/horarios.\n",
    "* **Masculino:** mantener prácticas actuales (mejor `es_bajo`) con **reconocimiento** y oportunidades de desarrollo para sostener resultados.\n",
    "* **Otro:** hacer **diagnóstico individual** (muestra y roles), reforzar **acompañamiento 1:1** y asegurar prácticas **inclusivas**; si el n es pequeño, tratar como **casos** más que como segmento.\n"
   ]
  },
  {
   "cell_type": "markdown",
   "id": "005dc63b-13f1-4e1a-8461-0be68e454bb7",
   "metadata": {},
   "source": [
    "2) **¿Qué nivel_educativo concentra mayor proporción de desempeño bajo?**"
   ]
  },
  {
   "cell_type": "code",
   "execution_count": 7,
   "id": "e2c6e3d0-d889-491f-82a9-b5487d35bb95",
   "metadata": {},
   "outputs": [
    {
     "data": {
      "text/html": [
       "<div>\n",
       "<style scoped>\n",
       "    .dataframe tbody tr th:only-of-type {\n",
       "        vertical-align: middle;\n",
       "    }\n",
       "\n",
       "    .dataframe tbody tr th {\n",
       "        vertical-align: top;\n",
       "    }\n",
       "\n",
       "    .dataframe thead th {\n",
       "        text-align: right;\n",
       "    }\n",
       "</style>\n",
       "<table border=\"1\" class=\"dataframe\">\n",
       "  <thead>\n",
       "    <tr style=\"text-align: right;\">\n",
       "      <th></th>\n",
       "      <th>prop_des_bajo</th>\n",
       "    </tr>\n",
       "    <tr>\n",
       "      <th>nivel_educativo</th>\n",
       "      <th></th>\n",
       "    </tr>\n",
       "  </thead>\n",
       "  <tbody>\n",
       "    <tr>\n",
       "      <th>Doctorado</th>\n",
       "      <td>0.365385</td>\n",
       "    </tr>\n",
       "    <tr>\n",
       "      <th>Secundaria</th>\n",
       "      <td>0.336735</td>\n",
       "    </tr>\n",
       "    <tr>\n",
       "      <th>Licenciatura</th>\n",
       "      <td>0.306494</td>\n",
       "    </tr>\n",
       "    <tr>\n",
       "      <th>Maestría</th>\n",
       "      <td>0.267658</td>\n",
       "    </tr>\n",
       "  </tbody>\n",
       "</table>\n",
       "</div>"
      ],
      "text/plain": [
       "                 prop_des_bajo\n",
       "nivel_educativo               \n",
       "Doctorado             0.365385\n",
       "Secundaria            0.336735\n",
       "Licenciatura          0.306494\n",
       "Maestría              0.267658"
      ]
     },
     "metadata": {},
     "output_type": "display_data"
    }
   ],
   "source": [
    "prop_bajo_x_edu = (df.groupby('nivel_educativo')['es_bajo']\n",
    "                     .mean()\n",
    "                     .sort_values(ascending=False)\n",
    "                     .rename('prop_des_bajo'))\n",
    "display(prop_bajo_x_edu.to_frame())"
   ]
  },
  {
   "cell_type": "markdown",
   "id": "83f999db-f83c-4e5e-969b-9b77d90d45f4",
   "metadata": {},
   "source": [
    "### 🔎 Hallazgos e implicaciones\n",
    "\n",
    "**Qué se ve:**\n",
    "\n",
    "* Mayor proporción de **desempeño bajo** en **Doctorado (0.365)** y **Secundaria (0.337)**.\n",
    "* Menor proporción en **Maestría (0.268)**; **Licenciatura** queda intermedio (0.306).\n",
    "* Brecha aprox. **10 p.p.** entre Doctorado y Maestría.\n",
    "\n",
    "**Cómo leer:**\n",
    "\n",
    "* El indicador es una **proporción** (`mean` de `es_bajo`), no el número de personas.\n",
    "* Puede estar influido por **mezcla de roles**, **antigüedad** y **tamaños de muestra** distintos por nivel educativo. Ideal contrastar con conteos y, si es posible, un **modelo ajustado** (p. ej., logística controlando por puesto/área/antigüedad).\n",
    "\n",
    "**Implicaciones para RRHH:**\n",
    "\n",
    "* **Doctorado:** posible **desalineación/infrautilización** del perfil (overqualification) o **métricas no ajustadas** al tipo de rol. Acciones: revisión de **job-fit**, asignación a proyectos de mayor complejidad/impacto, ajuste de KPIs y responsabilidades (innovación, mentoría técnica).\n",
    "* **Secundaria:** refuerza **capacitación técnica y on-the-job**, estandariza procesos y supervisión, rutas claras de **upskilling**.\n",
    "* **Licenciatura:** mantenimiento con **coaching focal** en los equipos con mayor proporción de bajo desempeño.\n",
    "* **Maestría:** sostener prácticas actuales y activar **planes de carrera** para evitar estancamiento.\n"
   ]
  },
  {
   "cell_type": "markdown",
   "id": "f890d1bb-4825-40b0-b40a-fba5bd907dc6",
   "metadata": {},
   "source": [
    "3) **¿Cómo varían las horas de capacitación según evaluación de liderazgo?**"
   ]
  },
  {
   "cell_type": "code",
   "execution_count": 8,
   "id": "3b3e76dd-ac74-4aa6-93a7-8f4827024d7a",
   "metadata": {},
   "outputs": [
    {
     "data": {
      "text/html": [
       "<div>\n",
       "<style scoped>\n",
       "    .dataframe tbody tr th:only-of-type {\n",
       "        vertical-align: middle;\n",
       "    }\n",
       "\n",
       "    .dataframe tbody tr th {\n",
       "        vertical-align: top;\n",
       "    }\n",
       "\n",
       "    .dataframe thead th {\n",
       "        text-align: right;\n",
       "    }\n",
       "</style>\n",
       "<table border=\"1\" class=\"dataframe\">\n",
       "  <thead>\n",
       "    <tr style=\"text-align: right;\">\n",
       "      <th></th>\n",
       "      <th>horas_capacitacion_prom</th>\n",
       "    </tr>\n",
       "    <tr>\n",
       "      <th>evaluacion_liderazgo</th>\n",
       "      <th></th>\n",
       "    </tr>\n",
       "  </thead>\n",
       "  <tbody>\n",
       "    <tr>\n",
       "      <th>Media</th>\n",
       "      <td>24.909266</td>\n",
       "    </tr>\n",
       "    <tr>\n",
       "      <th>Alta</th>\n",
       "      <td>23.937500</td>\n",
       "    </tr>\n",
       "    <tr>\n",
       "      <th>Baja</th>\n",
       "      <td>22.620690</td>\n",
       "    </tr>\n",
       "  </tbody>\n",
       "</table>\n",
       "</div>"
      ],
      "text/plain": [
       "                      horas_capacitacion_prom\n",
       "evaluacion_liderazgo                         \n",
       "Media                               24.909266\n",
       "Alta                                23.937500\n",
       "Baja                                22.620690"
      ]
     },
     "metadata": {},
     "output_type": "display_data"
    }
   ],
   "source": [
    "cap_por_liderazgo = (df.groupby('evaluacion_liderazgo')['horas_capacitacion']\n",
    "                       .mean()\n",
    "                       .sort_values(ascending=False)\n",
    "                       .rename('horas_capacitacion_prom'))\n",
    "display(cap_por_liderazgo.to_frame())\n"
   ]
  },
  {
   "cell_type": "markdown",
   "id": "251527e5-7953-4d2c-9e85-f437607851fa",
   "metadata": {},
   "source": [
    "### 🔎 Hallazgos e implicaciones\n",
    "\n",
    "**Qué se ve:**\n",
    "\n",
    "* Promedio de **horas de capacitación** por evaluación de liderazgo: **Media 24.9 > Alta 23.9 > Baja 22.6**.\n",
    "* Brecha moderada entre extremos (**≈2.3 h**); no es grande pero sí consistente.\n",
    "\n",
    "**Cómo leer:**\n",
    "\n",
    "* Son **promedios**; falta considerar **tamaños de muestra y dispersión**.\n",
    "* Las horas reflejan **cantidad**, no **calidad ni efectividad** de la formación.\n",
    "* El patrón sugiere que quienes tienen **liderazgo “Baja”** reciben **menos horas** que “Media/Alta”, lo cual podría **no** estar alineado con un enfoque de cierre de brechas.\n",
    "\n",
    "**Implicaciones para RRHH:**\n",
    "\n",
    "* Establecer un **mínimo garantizado** y un **itinerario intensivo** para “Baja” (p. ej., habilidades de feedback, comunicación, conducción de 1:1), con **coaching** y seguimiento mensual.\n",
    "* Mantener a “Media” con programas de **aceleración** (proyectos retadores + formación aplicada) para moverlos a “Alta”.\n",
    "* Para “Alta”, priorizar **programas avanzados** y **rol de mentores** (parte de sus horas orientadas a enseñar).\n"
   ]
  },
  {
   "cell_type": "markdown",
   "id": "32889635-b43e-419d-bc78-f0b8f5a828ab",
   "metadata": {},
   "source": [
    "4) **¿Qué tramos de antigüedad (quintiles) muestran mayor desempeño bajo y menor KPI?**"
   ]
  },
  {
   "cell_type": "code",
   "execution_count": 9,
   "id": "7863d26b-f164-4f73-97d5-aecb6977ae84",
   "metadata": {},
   "outputs": [
    {
     "data": {
      "text/html": [
       "<div>\n",
       "<style scoped>\n",
       "    .dataframe tbody tr th:only-of-type {\n",
       "        vertical-align: middle;\n",
       "    }\n",
       "\n",
       "    .dataframe tbody tr th {\n",
       "        vertical-align: top;\n",
       "    }\n",
       "\n",
       "    .dataframe thead th {\n",
       "        text-align: right;\n",
       "    }\n",
       "</style>\n",
       "<table border=\"1\" class=\"dataframe\">\n",
       "  <thead>\n",
       "    <tr style=\"text-align: right;\">\n",
       "      <th></th>\n",
       "      <th>es_bajo</th>\n",
       "      <th>cumplimiento_kpi</th>\n",
       "      <th>puntaje_productividad</th>\n",
       "    </tr>\n",
       "    <tr>\n",
       "      <th>antiguedad_q</th>\n",
       "      <th></th>\n",
       "      <th></th>\n",
       "      <th></th>\n",
       "    </tr>\n",
       "  </thead>\n",
       "  <tbody>\n",
       "    <tr>\n",
       "      <th>Q1</th>\n",
       "      <td>0.351485</td>\n",
       "      <td>74.529703</td>\n",
       "      <td>75.297030</td>\n",
       "    </tr>\n",
       "    <tr>\n",
       "      <th>Q2</th>\n",
       "      <td>0.307692</td>\n",
       "      <td>74.427885</td>\n",
       "      <td>75.408654</td>\n",
       "    </tr>\n",
       "    <tr>\n",
       "      <th>Q3</th>\n",
       "      <td>0.264000</td>\n",
       "      <td>74.484000</td>\n",
       "      <td>74.644000</td>\n",
       "    </tr>\n",
       "    <tr>\n",
       "      <th>Q4</th>\n",
       "      <td>0.300578</td>\n",
       "      <td>75.994220</td>\n",
       "      <td>74.161850</td>\n",
       "    </tr>\n",
       "    <tr>\n",
       "      <th>Q5</th>\n",
       "      <td>0.329341</td>\n",
       "      <td>75.976048</td>\n",
       "      <td>75.275449</td>\n",
       "    </tr>\n",
       "  </tbody>\n",
       "</table>\n",
       "</div>"
      ],
      "text/plain": [
       "               es_bajo  cumplimiento_kpi  puntaje_productividad\n",
       "antiguedad_q                                                   \n",
       "Q1            0.351485         74.529703              75.297030\n",
       "Q2            0.307692         74.427885              75.408654\n",
       "Q3            0.264000         74.484000              74.644000\n",
       "Q4            0.300578         75.994220              74.161850\n",
       "Q5            0.329341         75.976048              75.275449"
      ]
     },
     "metadata": {},
     "output_type": "display_data"
    }
   ],
   "source": [
    "by_ant = (df.groupby('antiguedad_q')[['es_bajo','cumplimiento_kpi','puntaje_productividad']]\n",
    "            .mean(numeric_only=True)\n",
    "            .sort_index())\n",
    "display(by_ant)\n"
   ]
  },
  {
   "cell_type": "markdown",
   "id": "ee001b2c-5ef6-4dc5-a63f-8d1d4817df4e",
   "metadata": {},
   "source": [
    "### 🔎 Hallazgos e implicaciones\n",
    "\n",
    "**Qué se ve:**\n",
    "\n",
    "* **Mayor proporción de “bajo desempeño”** en **Q1** (0.351) y **Q5** (0.329); **menor** en **Q3** (0.264).\n",
    "* **KPI más bajo** en **Q2** (74.43) y cercano en **Q1**; **KPI más alto** en **Q4–Q5** (\\~76).\n",
    "* **Productividad** cae en **Q4** (74.16) pese al KPI alto; Q1–Q2 y Q5 rondan \\~75.3.\n",
    "\n",
    "**Cómo leer:**\n",
    "\n",
    "* Quintiles por **antigüedad** (Q1 = menor, Q5 = mayor).\n",
    "* `es_bajo` es **proporción**, no conteo. Diferencias son **moderadas**; conviene revisar **tamaños de muestra** y, si es posible, significancia/IC y mezcla de **roles/áreas**.\n",
    "\n",
    "**Implicaciones para RRHH:**\n",
    "\n",
    "* **Q1 (ingreso reciente):** fortalecer **onboarding y mentoring**; metas de rampa y feedback semanal para reducir “bajo”.\n",
    "* **Q2 (tempranos):** foco en **claridad de expectativas y coaching en KPI**; probablemente aún en rampa.\n",
    "* **Q3 (medio):** **sweet spot**; asignar **proyectos críticos** y rol de **mentores** para multiplicar impacto.\n",
    "* **Q4 (alto):** aunque el KPI sube, la **productividad baja** → **upskilling**, revisión de **procesos/carga** y objetivos de eficiencia.\n",
    "* **Q5 (muy alto):** repunta el “bajo desempeño” → atender **obsolescencia/burnout** con **rotación lateral, reskilling, refresco de rol** y planes de **sucesión** + reconocimiento.\n"
   ]
  },
  {
   "cell_type": "markdown",
   "id": "e5082f55-fdde-4de3-9dae-539e7155cf0f",
   "metadata": {},
   "source": [
    "5) **¿Qué categoría de desempeño recibe más horas de capacitación (en promedio)?**"
   ]
  },
  {
   "cell_type": "code",
   "execution_count": 10,
   "id": "03cb2e54-b40c-4260-8f88-60d1160730dc",
   "metadata": {},
   "outputs": [
    {
     "data": {
      "text/html": [
       "<div>\n",
       "<style scoped>\n",
       "    .dataframe tbody tr th:only-of-type {\n",
       "        vertical-align: middle;\n",
       "    }\n",
       "\n",
       "    .dataframe tbody tr th {\n",
       "        vertical-align: top;\n",
       "    }\n",
       "\n",
       "    .dataframe thead th {\n",
       "        text-align: right;\n",
       "    }\n",
       "</style>\n",
       "<table border=\"1\" class=\"dataframe\">\n",
       "  <thead>\n",
       "    <tr style=\"text-align: right;\">\n",
       "      <th></th>\n",
       "      <th>horas_capacitacion_prom</th>\n",
       "    </tr>\n",
       "    <tr>\n",
       "      <th>categoria_desempeno</th>\n",
       "      <th></th>\n",
       "    </tr>\n",
       "  </thead>\n",
       "  <tbody>\n",
       "    <tr>\n",
       "      <th>Medio</th>\n",
       "      <td>24.762402</td>\n",
       "    </tr>\n",
       "    <tr>\n",
       "      <th>Bajo</th>\n",
       "      <td>23.737013</td>\n",
       "    </tr>\n",
       "    <tr>\n",
       "      <th>Alto</th>\n",
       "      <td>23.508091</td>\n",
       "    </tr>\n",
       "  </tbody>\n",
       "</table>\n",
       "</div>"
      ],
      "text/plain": [
       "                     horas_capacitacion_prom\n",
       "categoria_desempeno                         \n",
       "Medio                              24.762402\n",
       "Bajo                               23.737013\n",
       "Alto                               23.508091"
      ]
     },
     "metadata": {},
     "output_type": "display_data"
    }
   ],
   "source": [
    "cap_por_desempeno = (df.groupby('categoria_desempeno')['horas_capacitacion']\n",
    "                       .mean()\n",
    "                       .sort_values(ascending=False)\n",
    "                       .rename('horas_capacitacion_prom'))\n",
    "display(cap_por_desempeno.to_frame())\n"
   ]
  },
  {
   "cell_type": "markdown",
   "id": "da90b21c-6a50-4172-af48-bbfea5c72b57",
   "metadata": {},
   "source": [
    "### 🔎 Hallazgos e implicaciones\n",
    "\n",
    "**Qué se ve:**\n",
    "\n",
    "* **Más horas de capacitación (promedio):** **Desempeño Medio** (\\~24.76) > **Bajo** (\\~23.74) > **Alto** (\\~23.51).\n",
    "* La **brecha** entre “Medio” y “Alto” es **pequeña** (\\~1.25 h).\n",
    "\n",
    "**Cómo leer:**\n",
    "\n",
    "* Son **promedios** de horas (cantidad, no calidad/impacto).\n",
    "* La mayor carga en “Medio” sugiere programas de **aceleración** para subirlos a **\"Alto\"** los “Altos” podrían capacitarse menos por **prioridades operativas**.\n",
    "* Validar con **tamaños de muestra/dispersiones** e idealmente contrastar con **ANOVA/Kruskal** y **pre–post** de desempeño.\n",
    "\n",
    "**Implicaciones para RRHH:**\n",
    "\n",
    "* **Bajo:** establecer **mínimo garantizado** + plan **remedial** ligado a brechas de KPI (coaching, prácticas guiadas, seguimiento quincenal).\n",
    "* **Medio:** mantener y afinar **programas de aceleración** (aplicación en proyecto real) para convertirlos en **Alto**.\n",
    "* **Alto:** priorizar **formación avanzada** y **rol de mentores** (parte de sus horas “enseñando”); medir **ROI** por transferencia al equipo.\n"
   ]
  },
  {
   "cell_type": "markdown",
   "id": "697320c4-eed2-4f29-8c2e-37607bc942c7",
   "metadata": {},
   "source": [
    "6) **¿Cómo se distribuye la categoría de desempeño por nivel educativo?**"
   ]
  },
  {
   "cell_type": "code",
   "execution_count": 11,
   "id": "1bab403f-7f92-44cb-9420-19d5e2a212f6",
   "metadata": {},
   "outputs": [
    {
     "data": {
      "text/html": [
       "<div>\n",
       "<style scoped>\n",
       "    .dataframe tbody tr th:only-of-type {\n",
       "        vertical-align: middle;\n",
       "    }\n",
       "\n",
       "    .dataframe tbody tr th {\n",
       "        vertical-align: top;\n",
       "    }\n",
       "\n",
       "    .dataframe thead th {\n",
       "        text-align: right;\n",
       "    }\n",
       "</style>\n",
       "<table border=\"1\" class=\"dataframe\">\n",
       "  <thead>\n",
       "    <tr style=\"text-align: right;\">\n",
       "      <th>categoria_desempeno</th>\n",
       "      <th>Alto</th>\n",
       "      <th>Bajo</th>\n",
       "      <th>Medio</th>\n",
       "    </tr>\n",
       "    <tr>\n",
       "      <th>nivel_educativo</th>\n",
       "      <th></th>\n",
       "      <th></th>\n",
       "      <th></th>\n",
       "    </tr>\n",
       "  </thead>\n",
       "  <tbody>\n",
       "    <tr>\n",
       "      <th>Doctorado</th>\n",
       "      <td>0.288</td>\n",
       "      <td>0.365</td>\n",
       "      <td>0.346</td>\n",
       "    </tr>\n",
       "    <tr>\n",
       "      <th>Licenciatura</th>\n",
       "      <td>0.304</td>\n",
       "      <td>0.306</td>\n",
       "      <td>0.390</td>\n",
       "    </tr>\n",
       "    <tr>\n",
       "      <th>Maestría</th>\n",
       "      <td>0.301</td>\n",
       "      <td>0.268</td>\n",
       "      <td>0.431</td>\n",
       "    </tr>\n",
       "    <tr>\n",
       "      <th>Secundaria</th>\n",
       "      <td>0.327</td>\n",
       "      <td>0.337</td>\n",
       "      <td>0.337</td>\n",
       "    </tr>\n",
       "  </tbody>\n",
       "</table>\n",
       "</div>"
      ],
      "text/plain": [
       "categoria_desempeno   Alto   Bajo  Medio\n",
       "nivel_educativo                         \n",
       "Doctorado            0.288  0.365  0.346\n",
       "Licenciatura         0.304  0.306  0.390\n",
       "Maestría             0.301  0.268  0.431\n",
       "Secundaria           0.327  0.337  0.337"
      ]
     },
     "metadata": {},
     "output_type": "display_data"
    }
   ],
   "source": [
    "ct1 = pd.crosstab(df['nivel_educativo'], df['categoria_desempeno'], normalize='index')\n",
    "display(ct1.round(3))\n"
   ]
  },
  {
   "cell_type": "markdown",
   "id": "63add448-d855-4733-b608-97ddaeb320f6",
   "metadata": {},
   "source": [
    "### 🔎 Hallazgos e implicaciones\n",
    "\n",
    "**Qué se ve:**\n",
    "\n",
    "* **Mayor “Bajo”** en **Doctorado (0.365)** y **Secundaria (0.337)**.\n",
    "* **Menor “Bajo”** en **Maestría (0.268)**.\n",
    "* **“Medio”** destaca en **Maestría (0.431)** y **Licenciatura (0.390)**.\n",
    "* **“Alto”** es similar entre niveles (0.288–0.327), ligeramente mayor en **Secundaria (0.327)**.\n",
    "\n",
    "**Cómo leer:**\n",
    "\n",
    "* Tabla **normalizada por fila**: son **proporciones dentro de cada nivel educativo**, no conteos; conviene ver el **tamaño de muestra** por nivel.\n",
    "* Las diferencias pueden reflejar **mix de roles/antigüedad**; ideal contrastar con KPI/productividad y ajustar por área/tenencia antes de concluir causalidad.\n",
    "\n",
    "**Implicaciones para RRHH:**\n",
    "\n",
    "* **Doctorado:** señales de **desalineación/overqualification** → revisar **job-fit y KPIs**, asignar **proyectos de alto impacto/innovación**, rol de **mentor técnico**.\n",
    "* **Secundaria:** distribución pareja pero con “Bajo” elevado → **upskilling** técnico, **SOPs** claros, supervisión cercana y rutas a certificaciones.\n",
    "* **Licenciatura:** alta concentración en “Medio” → **programas de aceleración** (proyectos aplicados + coaching) para migrar a “Alto”.\n",
    "* **Maestría:** buen perfil (bajo “Bajo”, alto “Medio”) → sostener y **empujar a “Alto”** con proyectos estratégicos y pipeline de liderazgo.\n",
    "* **Transversal:** monitorear **transiciones** entre categorías por nivel y validar diferencias con **pruebas estadísticas** antes de políticas globales.\n"
   ]
  },
  {
   "cell_type": "markdown",
   "id": "b325070e-7ed8-4e80-91b4-9e034c7e2cd5",
   "metadata": {},
   "source": [
    "7) **¿Cómo se distribuye la categoría de desempeño por género?**"
   ]
  },
  {
   "cell_type": "code",
   "execution_count": 12,
   "id": "e0878495-5cef-442a-89c2-f0a121f7d8f9",
   "metadata": {},
   "outputs": [
    {
     "data": {
      "text/html": [
       "<div>\n",
       "<style scoped>\n",
       "    .dataframe tbody tr th:only-of-type {\n",
       "        vertical-align: middle;\n",
       "    }\n",
       "\n",
       "    .dataframe tbody tr th {\n",
       "        vertical-align: top;\n",
       "    }\n",
       "\n",
       "    .dataframe thead th {\n",
       "        text-align: right;\n",
       "    }\n",
       "</style>\n",
       "<table border=\"1\" class=\"dataframe\">\n",
       "  <thead>\n",
       "    <tr style=\"text-align: right;\">\n",
       "      <th>categoria_desempeno</th>\n",
       "      <th>Alto</th>\n",
       "      <th>Bajo</th>\n",
       "      <th>Medio</th>\n",
       "    </tr>\n",
       "    <tr>\n",
       "      <th>genero</th>\n",
       "      <th></th>\n",
       "      <th></th>\n",
       "      <th></th>\n",
       "    </tr>\n",
       "  </thead>\n",
       "  <tbody>\n",
       "    <tr>\n",
       "      <th>Femenino</th>\n",
       "      <td>0.306</td>\n",
       "      <td>0.318</td>\n",
       "      <td>0.376</td>\n",
       "    </tr>\n",
       "    <tr>\n",
       "      <th>Masculino</th>\n",
       "      <td>0.318</td>\n",
       "      <td>0.283</td>\n",
       "      <td>0.399</td>\n",
       "    </tr>\n",
       "    <tr>\n",
       "      <th>Otro</th>\n",
       "      <td>0.284</td>\n",
       "      <td>0.368</td>\n",
       "      <td>0.347</td>\n",
       "    </tr>\n",
       "  </tbody>\n",
       "</table>\n",
       "</div>"
      ],
      "text/plain": [
       "categoria_desempeno   Alto   Bajo  Medio\n",
       "genero                                  \n",
       "Femenino             0.306  0.318  0.376\n",
       "Masculino            0.318  0.283  0.399\n",
       "Otro                 0.284  0.368  0.347"
      ]
     },
     "metadata": {},
     "output_type": "display_data"
    }
   ],
   "source": [
    "ct2 = pd.crosstab(df['genero'], df['categoria_desempeno'], normalize='index')\n",
    "display(ct2.round(3))\n"
   ]
  },
  {
   "cell_type": "markdown",
   "id": "f1ef4e9f-b71b-407e-878c-af99169b1d33",
   "metadata": {},
   "source": [
    "### 🔎 Hallazgos e implicaciones\n",
    "\n",
    "**Qué se ve:**\n",
    "\n",
    "* **Masculino**: mayor proporción en **Medio** (0.399) y **Alto** (0.318); **menor “Bajo”** (0.283).\n",
    "* **Femenino**: **“Bajo”** más alto que Masculino (0.318 vs 0.283) y **Alto** algo menor (0.306); “Medio” 0.376.\n",
    "* **Otro**: **“Bajo”** más alto (0.368) y **“Alto”** más bajo (0.284); “Medio” 0.347.\n",
    "\n",
    "**Cómo leer:**\n",
    "\n",
    "* Son **proporciones dentro de cada género** (tabla normalizada por fila), no conteos absolutos.\n",
    "* Diferencias son **moderadas**; pueden deberse a **mezclas de rol/antigüedad/área**. Conviene contrastar con tamaños de muestra y probar **chi-cuadrado** para independencia.\n",
    "\n",
    "**Implicaciones para RRHH:**\n",
    "\n",
    "* **Femenino:** reforzar **coaching de desempeño y claridad de KPIs**, revisar cargas/recursos y asegurar **acceso equitativo** a formación/mentoría y reconocimiento.\n",
    "* **Masculino:** **mantener** prácticas actuales; monitorear sesgos (p. ej., asignación de oportunidades) y promover **equidad** en desarrollo.\n",
    "* **Otro:** dada la mayor proporción en “Bajo”, aplicar **acompañamiento 1:1**, revisar **job-fit** y garantizar **prácticas inclusivas**; si el n es pequeño, tratar como **casos individuales** más que políticas generales.\n"
   ]
  },
  {
   "cell_type": "markdown",
   "id": "fffe9b1b-8145-424f-aea0-72c879f6d398",
   "metadata": {},
   "source": [
    "8) **¿Qué combinación género × evaluación de liderazgo concentra más desempeño bajo?**"
   ]
  },
  {
   "cell_type": "code",
   "execution_count": 13,
   "id": "b9148c1c-b1bc-4b9a-91c9-7dc0785eab32",
   "metadata": {},
   "outputs": [
    {
     "data": {
      "text/html": [
       "<div>\n",
       "<style scoped>\n",
       "    .dataframe tbody tr th:only-of-type {\n",
       "        vertical-align: middle;\n",
       "    }\n",
       "\n",
       "    .dataframe tbody tr th {\n",
       "        vertical-align: top;\n",
       "    }\n",
       "\n",
       "    .dataframe thead th {\n",
       "        text-align: right;\n",
       "    }\n",
       "</style>\n",
       "<table border=\"1\" class=\"dataframe\">\n",
       "  <thead>\n",
       "    <tr style=\"text-align: right;\">\n",
       "      <th>evaluacion_liderazgo</th>\n",
       "      <th>Alta</th>\n",
       "      <th>Baja</th>\n",
       "      <th>Media</th>\n",
       "    </tr>\n",
       "    <tr>\n",
       "      <th>genero</th>\n",
       "      <th></th>\n",
       "      <th></th>\n",
       "      <th></th>\n",
       "    </tr>\n",
       "  </thead>\n",
       "  <tbody>\n",
       "    <tr>\n",
       "      <th>Otro</th>\n",
       "      <td>0.333</td>\n",
       "      <td>0.308</td>\n",
       "      <td>0.422</td>\n",
       "    </tr>\n",
       "    <tr>\n",
       "      <th>Masculino</th>\n",
       "      <td>0.318</td>\n",
       "      <td>0.292</td>\n",
       "      <td>0.265</td>\n",
       "    </tr>\n",
       "    <tr>\n",
       "      <th>Femenino</th>\n",
       "      <td>0.288</td>\n",
       "      <td>0.340</td>\n",
       "      <td>0.316</td>\n",
       "    </tr>\n",
       "  </tbody>\n",
       "</table>\n",
       "</div>"
      ],
      "text/plain": [
       "evaluacion_liderazgo   Alta   Baja  Media\n",
       "genero                                   \n",
       "Otro                  0.333  0.308  0.422\n",
       "Masculino             0.318  0.292  0.265\n",
       "Femenino              0.288  0.340  0.316"
      ]
     },
     "metadata": {},
     "output_type": "display_data"
    }
   ],
   "source": [
    "ct3 = pd.crosstab(df['genero'], df['evaluacion_liderazgo'], values=df['es_bajo'],\n",
    "                  aggfunc='mean').fillna(0)\n",
    "display(ct3.round(3).sort_values(by=list(ct3.columns), ascending=False))\n"
   ]
  },
  {
   "cell_type": "markdown",
   "id": "2987a9b2-d187-4040-a519-71903e919fe4",
   "metadata": {},
   "source": [
    "### 🔎 Hallazgos e implicaciones\n",
    "\n",
    "**Qué se ve:**\n",
    "\n",
    "* Mayor proporción de **desempeño bajo** en **“Otro–Liderazgo Medio” (0.422)**.\n",
    "* **Femenino**: patrón esperado → **Baja (0.340) > Media (0.316) > Alta (0.288)**.\n",
    "* **Masculino**: patrón inverso → **Alta (0.318) > Baja (0.292) > Media (0.265)**.\n",
    "* En “Otro”, **Media (0.422)** y **Alta (0.333)** superan a **Baja (0.308)**.\n",
    "\n",
    "**Cómo leer:**\n",
    "\n",
    "* Cada celda es la **proporción** de `es_bajo` dentro de la combinación (no conteos).\n",
    "* Posibles **efectos de tamaño de muestra** (especialmente en “Otro”) y **mezcla de roles/antigüedad/áreas**; no implica causalidad.\n",
    "* Recomendado contrastar con **conteos**, e idealmente un **modelo logístico** con interacción `género × evaluación_liderazgo` para validar significancia y descartar **paradojas de mezcla**.\n",
    "\n",
    "**Implicaciones para RRHH:**\n",
    "\n",
    "* **Femenino–Baja**: priorizar **mejora de liderazgo** (feedback, apoyo, asignación de recursos) y **mentoría** para el equipo.\n",
    "* **Masculino–Alta**: investigar **calibración de metas/carga** y posibles **sesgos de evaluación**; revisar **equidad de oportunidades** y reconocimiento.\n",
    "* **Otro–Media**: tratamiento **caso a caso** (probable n pequeño); asegurar **prácticas inclusivas** y acompañamiento 1:1.\n",
    "* **Transversal**: diseñar un plan de **desarrollo para líderes “Medios/Bajos”** y un **mecanismo de calibración** de desempeño entre equipos; monitorear trimestralmente estas combinaciones como **segmentos de riesgo**.\n"
   ]
  },
  {
   "cell_type": "markdown",
   "id": "e1e0a359-b5d8-4147-a21f-8526cf854910",
   "metadata": {},
   "source": [
    "9) **¿Qué combinación nivel educativo × evaluación de liderazgo tiene mayor proporción de desempeño bajo?**"
   ]
  },
  {
   "cell_type": "code",
   "execution_count": 14,
   "id": "a82eea27-d3d8-4b4d-8dc4-22dcf709389b",
   "metadata": {},
   "outputs": [
    {
     "data": {
      "text/html": [
       "<div>\n",
       "<style scoped>\n",
       "    .dataframe tbody tr th:only-of-type {\n",
       "        vertical-align: middle;\n",
       "    }\n",
       "\n",
       "    .dataframe tbody tr th {\n",
       "        vertical-align: top;\n",
       "    }\n",
       "\n",
       "    .dataframe thead th {\n",
       "        text-align: right;\n",
       "    }\n",
       "</style>\n",
       "<table border=\"1\" class=\"dataframe\">\n",
       "  <thead>\n",
       "    <tr style=\"text-align: right;\">\n",
       "      <th>evaluacion_liderazgo</th>\n",
       "      <th>Alta</th>\n",
       "      <th>Baja</th>\n",
       "      <th>Media</th>\n",
       "    </tr>\n",
       "    <tr>\n",
       "      <th>nivel_educativo</th>\n",
       "      <th></th>\n",
       "      <th></th>\n",
       "      <th></th>\n",
       "    </tr>\n",
       "  </thead>\n",
       "  <tbody>\n",
       "    <tr>\n",
       "      <th>Maestría</th>\n",
       "      <td>0.346</td>\n",
       "      <td>0.353</td>\n",
       "      <td>0.201</td>\n",
       "    </tr>\n",
       "    <tr>\n",
       "      <th>Licenciatura</th>\n",
       "      <td>0.314</td>\n",
       "      <td>0.269</td>\n",
       "      <td>0.327</td>\n",
       "    </tr>\n",
       "    <tr>\n",
       "      <th>Secundaria</th>\n",
       "      <td>0.281</td>\n",
       "      <td>0.360</td>\n",
       "      <td>0.344</td>\n",
       "    </tr>\n",
       "    <tr>\n",
       "      <th>Doctorado</th>\n",
       "      <td>0.231</td>\n",
       "      <td>0.294</td>\n",
       "      <td>0.500</td>\n",
       "    </tr>\n",
       "  </tbody>\n",
       "</table>\n",
       "</div>"
      ],
      "text/plain": [
       "evaluacion_liderazgo   Alta   Baja  Media\n",
       "nivel_educativo                          \n",
       "Maestría              0.346  0.353  0.201\n",
       "Licenciatura          0.314  0.269  0.327\n",
       "Secundaria            0.281  0.360  0.344\n",
       "Doctorado             0.231  0.294  0.500"
      ]
     },
     "metadata": {},
     "output_type": "display_data"
    }
   ],
   "source": [
    "ct4 = pd.crosstab(df['nivel_educativo'], df['evaluacion_liderazgo'], values=df['es_bajo'],\n",
    "                  aggfunc='mean').fillna(0)\n",
    "display(ct4.round(3).sort_values(by=list(ct4.columns), ascending=False))\n"
   ]
  },
  {
   "cell_type": "markdown",
   "id": "9dd1c1c4-3b63-4ce9-8ac3-a5506aad2edf",
   "metadata": {},
   "source": [
    "### 🔎 Hallazgos e implicaciones\n",
    "\n",
    "**Qué se ve:**\n",
    "\n",
    "* Mayor proporción de **desempeño bajo**: **Doctorado–Liderazgo “Media” (0.500)**.\n",
    "* Otros focos elevados: **Secundaria–“Baja” (0.360)** y **Maestría–“Baja” (0.353)**.\n",
    "* **Menor proporción**: **Maestría–“Media” (0.201)** y **Doctorado–“Alta” (0.231)**.\n",
    "* En **Licenciatura**, el mayor valor está en **“Media” (0.327)**, no en “Baja”.\n",
    "\n",
    "**Cómo leer:**\n",
    "\n",
    "* Cada celda es la **proporción de `es_bajo`** dentro de esa combinación (no el conteo de personas).\n",
    "* Posibles efectos de **tamaño de muestra** y **mezcla de roles/antigüedad/áreas**; interpretar con cautela.\n",
    "* Útil validar con un **modelo logístico con interacción** (nivel×liderazgo), más conteos y **IC** para confirmar diferencias.\n",
    "\n",
    "**Implicaciones para RRHH:**\n",
    "\n",
    "* **Doctorado–“Media” (0.500):** alto riesgo; revisar **job-fit** y **KPIs** (posible infrautilización). Asignar **proyectos técnicos/innovación**, pares/líderes con **expertise** y mayor **autonomía**.\n",
    "* **Secundaria–“Baja” (0.360):** reforzar **SOPs**, **coaching del supervisor** y **upskilling** básico; seguimiento semanal de metas.\n",
    "* **Maestría–“Baja” (0.353):** plan de **mejora de liderazgo** (feedback, claridad de objetivos) para capturar el potencial de este nivel.\n",
    "* **Maestría–“Media” (0.201):** combinación **protectora**; documentar y **replicar** prácticas del equipo/líder.\n",
    "* **Licenciatura–“Media” (0.327):** investigar **calibración de evaluaciones** y carga/objetivos; puede haber **desalineación** entre expectativas y rol.\n",
    "* **Transversal:** priorizar intervenciones por **calor de riesgo** (p. ej., Doctorado–Media y Secundaria–Baja primero) y monitorear trimestralmente estos cruces.\n"
   ]
  },
  {
   "cell_type": "markdown",
   "id": "43ab370a-982b-4eec-910c-6ae4a64ee10b",
   "metadata": {},
   "source": [
    "10) **¿Cuál es el promedio de satisfacción por nivel educativo × evaluación de liderazgo?**"
   ]
  },
  {
   "cell_type": "code",
   "execution_count": 15,
   "id": "146ece2d-a9f0-400f-9394-502fc0e0527b",
   "metadata": {},
   "outputs": [
    {
     "data": {
      "text/html": [
       "<div>\n",
       "<style scoped>\n",
       "    .dataframe tbody tr th:only-of-type {\n",
       "        vertical-align: middle;\n",
       "    }\n",
       "\n",
       "    .dataframe tbody tr th {\n",
       "        vertical-align: top;\n",
       "    }\n",
       "\n",
       "    .dataframe thead th {\n",
       "        text-align: right;\n",
       "    }\n",
       "</style>\n",
       "<table border=\"1\" class=\"dataframe\">\n",
       "  <thead>\n",
       "    <tr style=\"text-align: right;\">\n",
       "      <th>evaluacion_liderazgo</th>\n",
       "      <th>Alta</th>\n",
       "      <th>Baja</th>\n",
       "      <th>Media</th>\n",
       "      <th>All</th>\n",
       "    </tr>\n",
       "    <tr>\n",
       "      <th>nivel_educativo</th>\n",
       "      <th></th>\n",
       "      <th></th>\n",
       "      <th></th>\n",
       "      <th></th>\n",
       "    </tr>\n",
       "  </thead>\n",
       "  <tbody>\n",
       "    <tr>\n",
       "      <th>Doctorado</th>\n",
       "      <td>5.38</td>\n",
       "      <td>6.65</td>\n",
       "      <td>5.36</td>\n",
       "      <td>5.79</td>\n",
       "    </tr>\n",
       "    <tr>\n",
       "      <th>Licenciatura</th>\n",
       "      <td>5.63</td>\n",
       "      <td>5.57</td>\n",
       "      <td>5.54</td>\n",
       "      <td>5.57</td>\n",
       "    </tr>\n",
       "    <tr>\n",
       "      <th>Maestría</th>\n",
       "      <td>5.83</td>\n",
       "      <td>5.28</td>\n",
       "      <td>5.73</td>\n",
       "      <td>5.64</td>\n",
       "    </tr>\n",
       "    <tr>\n",
       "      <th>Secundaria</th>\n",
       "      <td>5.88</td>\n",
       "      <td>5.45</td>\n",
       "      <td>5.30</td>\n",
       "      <td>5.46</td>\n",
       "    </tr>\n",
       "    <tr>\n",
       "      <th>All</th>\n",
       "      <td>5.74</td>\n",
       "      <td>5.53</td>\n",
       "      <td>5.52</td>\n",
       "      <td>5.56</td>\n",
       "    </tr>\n",
       "  </tbody>\n",
       "</table>\n",
       "</div>"
      ],
      "text/plain": [
       "evaluacion_liderazgo  Alta  Baja  Media   All\n",
       "nivel_educativo                              \n",
       "Doctorado             5.38  6.65   5.36  5.79\n",
       "Licenciatura          5.63  5.57   5.54  5.57\n",
       "Maestría              5.83  5.28   5.73  5.64\n",
       "Secundaria            5.88  5.45   5.30  5.46\n",
       "All                   5.74  5.53   5.52  5.56"
      ]
     },
     "metadata": {},
     "output_type": "display_data"
    }
   ],
   "source": [
    "pv1 = pd.pivot_table(df, values='satisfaccion_laboral',\n",
    "                     index='nivel_educativo', columns='evaluacion_liderazgo',\n",
    "                     aggfunc='mean', margins=True)\n",
    "display(pv1.round(2))\n"
   ]
  },
  {
   "cell_type": "markdown",
   "id": "4f9b7515-f8d6-4ce6-8bbc-366b071bcaa9",
   "metadata": {},
   "source": [
    "### 🔎 Hallazgos e implicaciones\n",
    "\n",
    "**Qué se ve:**\n",
    "\n",
    "* En general, la satisfacción es **mayor con liderazgo “Alta”** (promedio global 5.74) que con **“Media” (5.52)** o **“Baja” (5.53)**.\n",
    "* Por nivel:\n",
    "\n",
    "  * **Secundaria:** Alta **5.88** > Baja **5.45** > Media **5.30** (brecha marcada).\n",
    "  * **Maestría:** Alta **5.83** > Media **5.73** >> Baja **5.28**.\n",
    "  * **Licenciatura:** valores **parejos** (5.54–5.63).\n",
    "  * **Doctorado:** patrón atípico: **Baja 6.65** > Alta 5.38 ≈ Media 5.36 (posible n pequeño/mezcla de roles).\n",
    "\n",
    "**Cómo leer:**\n",
    "\n",
    "* Son **promedios**, no distribuciones; verificar **tamaño de muestra** e **intervalos de confianza** (ANOVA/Kruskal) antes de inferir causalidad.\n",
    "* El efecto del liderazgo **interactúa** con nivel educativo (no es uniforme). El caso de **Doctorado–Baja** sugiere **precaución** (muestra, job-fit, naturaleza de roles).\n",
    "\n",
    "**Implicaciones para RRHH:**\n",
    "\n",
    "* **Prioritario:** elevar líderes de **“Media/Baja” a “Alta”** en **Secundaria y Maestría** (ganancias potenciales de \\~0.4–0.6 puntos).\n",
    "* **Licenciatura:** mantener prácticas; micro-mejoras de liderazgo podrían tener **retorno limitado** (brecha pequeña).\n",
    "* **Doctorado:** hacer **deep-dive cualitativo** (job-fit, autonomía, tipo de proyecto, tamaño muestral) y calibrar estilo de liderazgo (más **autonomía/impacto**).\n",
    "* **Transversal:** programa de **desarrollo de líderes** (feedback efectivo, claridad de objetivos, autonomía) y **monitoreo trimestral** por cruce **nivel × liderazgo** para medir mejoras en satisfacción.\n"
   ]
  },
  {
   "cell_type": "markdown",
   "id": "ed4d6d08-0fbc-4f7c-8cf5-e67154930188",
   "metadata": {},
   "source": [
    "11) **¿Qué combinación de nivel educativo × género presenta mayor proporción de desempeño bajo?**"
   ]
  },
  {
   "cell_type": "code",
   "execution_count": 16,
   "id": "ebf87a52-f7bf-44f0-8aa3-7d6cc3702538",
   "metadata": {},
   "outputs": [
    {
     "data": {
      "text/html": [
       "<div>\n",
       "<style scoped>\n",
       "    .dataframe tbody tr th:only-of-type {\n",
       "        vertical-align: middle;\n",
       "    }\n",
       "\n",
       "    .dataframe tbody tr th {\n",
       "        vertical-align: top;\n",
       "    }\n",
       "\n",
       "    .dataframe thead th {\n",
       "        text-align: right;\n",
       "    }\n",
       "</style>\n",
       "<table border=\"1\" class=\"dataframe\">\n",
       "  <thead>\n",
       "    <tr style=\"text-align: right;\">\n",
       "      <th>genero</th>\n",
       "      <th>Femenino</th>\n",
       "      <th>Masculino</th>\n",
       "      <th>Otro</th>\n",
       "      <th>All</th>\n",
       "    </tr>\n",
       "    <tr>\n",
       "      <th>nivel_educativo</th>\n",
       "      <th></th>\n",
       "      <th></th>\n",
       "      <th></th>\n",
       "      <th></th>\n",
       "    </tr>\n",
       "  </thead>\n",
       "  <tbody>\n",
       "    <tr>\n",
       "      <th>Doctorado</th>\n",
       "      <td>0.385</td>\n",
       "      <td>0.318</td>\n",
       "      <td>0.500</td>\n",
       "      <td>0.365</td>\n",
       "    </tr>\n",
       "    <tr>\n",
       "      <th>Licenciatura</th>\n",
       "      <td>0.324</td>\n",
       "      <td>0.295</td>\n",
       "      <td>0.258</td>\n",
       "      <td>0.306</td>\n",
       "    </tr>\n",
       "    <tr>\n",
       "      <th>Maestría</th>\n",
       "      <td>0.250</td>\n",
       "      <td>0.265</td>\n",
       "      <td>0.375</td>\n",
       "      <td>0.268</td>\n",
       "    </tr>\n",
       "    <tr>\n",
       "      <th>Secundaria</th>\n",
       "      <td>0.368</td>\n",
       "      <td>0.278</td>\n",
       "      <td>0.444</td>\n",
       "      <td>0.337</td>\n",
       "    </tr>\n",
       "    <tr>\n",
       "      <th>All</th>\n",
       "      <td>0.318</td>\n",
       "      <td>0.283</td>\n",
       "      <td>0.368</td>\n",
       "      <td>0.308</td>\n",
       "    </tr>\n",
       "  </tbody>\n",
       "</table>\n",
       "</div>"
      ],
      "text/plain": [
       "genero           Femenino  Masculino   Otro    All\n",
       "nivel_educativo                                   \n",
       "Doctorado           0.385      0.318  0.500  0.365\n",
       "Licenciatura        0.324      0.295  0.258  0.306\n",
       "Maestría            0.250      0.265  0.375  0.268\n",
       "Secundaria          0.368      0.278  0.444  0.337\n",
       "All                 0.318      0.283  0.368  0.308"
      ]
     },
     "metadata": {},
     "output_type": "display_data"
    }
   ],
   "source": [
    "# Booleano para pivot (ya lo creamos como 'es_bajo')\n",
    "pv3 = pd.pivot_table(df, values='es_bajo',\n",
    "                     index='nivel_educativo', columns='genero',\n",
    "                     aggfunc='mean', margins=True)\n",
    "display(pv3.round(3))\n"
   ]
  },
  {
   "cell_type": "markdown",
   "id": "3fe51a0a-63e1-4165-82cf-463abf1c60f9",
   "metadata": {},
   "source": [
    "### 🔎 Hallazgos e implicaciones\n",
    "\n",
    "**Qué se ve:**\n",
    "\n",
    "* **Riesgo más alto:** **Doctorado–Otro (0.500)** y **Secundaria–Otro (0.444)**.\n",
    "* **Femenino** con mayor “bajo” en **Doctorado (0.385)** y **Secundaria (0.368)**.\n",
    "* **Riesgo más bajo:** **Maestría–Femenino (0.250)** y **Maestría–Masculino (0.265)**; también bajo **Licenciatura–Otro (0.258)**.\n",
    "* Promedios globales por género: **Masculino 0.283 < Femenino 0.318 < Otro 0.368**.\n",
    "\n",
    "**Cómo leer:**\n",
    "\n",
    "* Cada celda es la **proporción** de `es_bajo` en esa combinación (no conteos).\n",
    "* Posibles efectos de **tamaño muestral** (especialmente en “Otro”) y **mezcla de roles/antigüedad/áreas**; no implica causalidad.\n",
    "* Recomendable verificar **conteos** e implementar un **modelo logístico con interacción** (nivel×género) para confirmar diferencias.\n",
    "\n",
    "**Implicaciones para RRHH:**\n",
    "\n",
    "* **Doctorado–Otro / Secundaria–Otro:** tratamiento **caso a caso** (probable n pequeño), asegurar **inclusión y job-fit**, acompañamiento 1:1 y revisión de **KPIs**.\n",
    "* **Femenino–Doctorado / Femenino–Secundaria:** reforzar **coaching de desempeño**, acceso a **mentoría/recursos** y calibración de metas.\n",
    "* **Maestría (F y M):** combinación **protectora**; **replicar prácticas** (liderazgo, diseño de rol) y convertir en **mentores**.\n",
    "* **Licenciatura–Otro (positivo):** investigar qué prácticas explican el mejor resultado y **escalarlas**.\n",
    "* **Transversal:** priorizar intervenciones según “mapa de riesgo” anterior y monitorear **pre–post** por subgrupo trimestralmente.\n"
   ]
  },
  {
   "cell_type": "code",
   "execution_count": null,
   "id": "2afe35b7-415b-4a71-a52e-67f1b1cdfed6",
   "metadata": {},
   "outputs": [],
   "source": []
  },
  {
   "cell_type": "markdown",
   "id": "14fdf031-ccc5-4933-b23d-e30843842650",
   "metadata": {},
   "source": [
    "## 3. FEATURE ENGINEERING"
   ]
  },
  {
   "cell_type": "code",
   "execution_count": 17,
   "id": "336aadf0-962f-4b35-9262-0d6f26abedb6",
   "metadata": {},
   "outputs": [],
   "source": [
    "df = pd.read_csv(DATA_PATH)\n",
    "num_cols = [feat for feat in df.columns if df[feat].dtype != 'O']\n",
    "features = df[num_cols]\n",
    "\n",
    "# Pipeline de etandarización\n",
    "preprocess = Pipeline(\n",
    "    [('scaler', StandardScaler())]\n",
    ")\n",
    "scaled_features = preprocess.fit_transform(features)\n",
    "\n",
    "# PCA - dos componentes principales\n",
    "features_2d = PCA(n_components=2).fit_transform(scaled_features)\n"
   ]
  },
  {
   "cell_type": "markdown",
   "id": "5b6c6418-2e3b-4657-a2e3-8d128b1c5d78",
   "metadata": {},
   "source": [
    "### Método del codo"
   ]
  },
  {
   "cell_type": "code",
   "execution_count": 18,
   "id": "92520473-f57b-4f1d-8180-a4270a92da9c",
   "metadata": {},
   "outputs": [
    {
     "data": {
      "image/png": "[encoded data removed]",
      "text/plain": [
       "<Figure size 800x550 with 2 Axes>"
      ]
     },
     "metadata": {},
     "output_type": "display_data"
    }
   ],
   "source": [
    "# Calcular la inercia para diferentes cantidades de clústeres\n",
    "from yellowbrick.cluster import KElbowVisualizer\n",
    "\n",
    "K_MIN, K_MAX = 2, 12\n",
    "modelo = KMeans(init='k-means++', n_init=100, max_iter=1000, random_state=RANDOM_STATE)\n",
    "visual = KElbowVisualizer(modelo, k=(K_MIN, K_MAX))\n",
    "\n",
    "visual.fit(scaled_features)\n",
    "visual.show();"
   ]
  },
  {
   "cell_type": "code",
   "execution_count": 19,
   "id": "e1162b1b-b471-4301-8897-955cc7867f1b",
   "metadata": {},
   "outputs": [
    {
     "name": "stdout",
     "output_type": "stream",
     "text": [
      "El valor de k con el método del codo: 5\n"
     ]
    }
   ],
   "source": [
    "k_elbow = visual.elbow_value_\n",
    "print(f\"El valor de k con el método del codo: {k_elbow}\")"
   ]
  },
  {
   "cell_type": "code",
   "execution_count": 20,
   "id": "599d49e1-12dd-4fcf-91fe-5c2743c5eefa",
   "metadata": {},
   "outputs": [
    {
     "data": {
      "text/plain": [
       "array([0, 0, 3, 3, 1, 3, 2, 3, 3, 0], dtype=int32)"
      ]
     },
     "execution_count": 20,
     "metadata": {},
     "output_type": "execute_result"
    }
   ],
   "source": [
    "# Models\n",
    "kmeans = KMeans(n_clusters=k_elbow, init='k-means++', n_init=100, max_iter=1000, random_state=RANDOM_STATE)\n",
    "\n",
    "# ajustar el modelo y predecir la asignacion de clusters\n",
    "km_clusters = kmeans.fit_predict(scaled_features)\n",
    "km_clusters[:10]"
   ]
  },
  {
   "cell_type": "code",
   "execution_count": 21,
   "id": "5be1c894-9029-4127-ab2f-ddca4315a8d6",
   "metadata": {},
   "outputs": [
    {
     "data": {
      "text/plain": [
       "cluster\n",
       "0    213\n",
       "4    202\n",
       "3    200\n",
       "2    196\n",
       "1    189\n",
       "Name: count, dtype: int64"
      ]
     },
     "execution_count": 21,
     "metadata": {},
     "output_type": "execute_result"
    }
   ],
   "source": [
    "data_kmeans = df.copy()\n",
    "data_kmeans['cluster'] = km_clusters\n",
    "data_kmeans['cluster'].value_counts()"
   ]
  },
  {
   "cell_type": "code",
   "execution_count": 22,
   "id": "1b525fbb-8169-4d6f-8bf2-f4dfc5431f28",
   "metadata": {},
   "outputs": [],
   "source": [
    "# función para plot de los clusters\n",
    "def plot_clusters(samples, clusters):\n",
    "    col_dic = {0: 'blue', 1: 'green', 2: 'orange', 3: 'yellow', 4: 'red'}\n",
    "    mrk_dic = {0: '*', 1: 'x', 2: '+', 3: '.', 4: '^'}\n",
    "    colors = [col_dic[i] for i in clusters]\n",
    "    markers = [mrk_dic[j] for j in clusters]\n",
    "    for sample in range(len(clusters)):\n",
    "        plt.scatter(samples[sample][0], samples[sample][1], color=colors[sample], marker=markers[sample], s=100)\n",
    "    plt.xlabel(\"Componente 1\")\n",
    "    plt.ylabel(\"Componente 2\")\n",
    "    plt.title(\"Clusters\")\n",
    "    plt.show()"
   ]
  },
  {
   "cell_type": "code",
   "execution_count": 23,
   "id": "697694db-bfd1-48cb-bc60-b5d80277b695",
   "metadata": {},
   "outputs": [
    {
     "data": {
      "image/png": "[encoded data removed]",
      "text/plain": [
       "<Figure size 800x550 with 1 Axes>"
      ]
     },
     "metadata": {},
     "output_type": "display_data"
    }
   ],
   "source": [
    "# Plot de clusters con 2 componentes de PCA\n",
    "plot_clusters(features_2d, km_clusters)   "
   ]
  },
  {
   "cell_type": "markdown",
   "id": "906908cb-80cc-47f1-b0eb-e2506b9edc72",
   "metadata": {},
   "source": [
    "### 🔎 Análisis del gráfico de dos componentes PCA por cluster\n",
    "\n",
    "**Contexto:** Proyección PCA a 2 componentes de los 5 clústeres K-Means. Colores/markers:\n",
    "0=azul(\\*) **(n=213)**, 1=verde(x) **(n=189)**, 2=naranja(+) **(n=196)**, 3=amarillo(.) **(n=200)**, 4=rojo(^) **(n=202)**.\n",
    "\n",
    "1. **Separación y solapamiento**\n",
    "\n",
    "* Existe un **núcleo central con solapamiento** (perfiles que comparten rasgos), pero se observan **direcciones preferentes** por clúster, lo que confirma que la segmentación captura patrones diferenciales útiles para RRHH.\n",
    "\n",
    "2. **Forma y localización por clúster**\n",
    "\n",
    "* **C0 Azul (213, el mayor):** concentrado en cuadrante superior-derecho, con mayor varianza en la Componente 2 → grupo dominante y **bien diferenciado** en esa dimensión.\n",
    "* **C1 Verde (189, el menor):** compacto en zona centro-izquierda → **alta homogeneidad**; nicho específico y estable.\n",
    "* **C2 Naranja (196):** elongado hacia la derecha (Componente 1) → **perfil diferenciado** en variables asociadas a esa dimensión (p.ej., desempeño/experiencia).\n",
    "* **C3 Amarillo (200):** más **difuso/mixto** alrededor del centro → perfil **intermedio o de transición**.\n",
    "* **C4 Rojo (202):** concentración centro-inferior con dispersión vertical moderada → **rasgos atípicos/específicos** frente al resto.\n",
    "\n",
    "3. **Implicaciones operativas (tamaño + definición)**\n",
    "\n",
    "* **Escala (impacto rápido):** C0, C4 y C3 (los más numerosos) para planes estandarizados: desarrollo/actualización/acompañamiento.\n",
    "* **Selectividad (valor crítico):** C2 para acciones de reconocimiento/retención focalizada.\n",
    "* **Corrección fina:** C1, por su menor tamaño y homogeneidad, permite **intervenciones precisas** (engagement/coaching) y medición clara de impacto.\n",
    "\n",
    "4. **Conclusión ejecutiva**\n",
    "   La estructura es **equilibrada** (diferencias de tamaño ≤24) y muestra **segmentos accionables**: un grupo dominante bien separado (C0), dos grupos masivos para política escala (C3, C4), un segmento diferenciado para retención (C2) y un nicho homogéneo para ajustes finos (C1). La gráfica respalda activar **estrategias diferenciadas por clúster** y priorizar según **tamaño x claridad de separación**.\n"
   ]
  },
  {
   "cell_type": "code",
   "execution_count": 24,
   "id": "54056baa-41fe-4dec-b042-6f7ed981d83b",
   "metadata": {},
   "outputs": [
    {
     "data": {
      "image/png": "[encoded data removed]",
      "text/plain": [
       "<Figure size 1000x400 with 2 Axes>"
      ]
     },
     "metadata": {},
     "output_type": "display_data"
    }
   ],
   "source": [
    "# heatmap de los centroides\n",
    "centroides = pd.DataFrame(kmeans.cluster_centers_, columns=features.columns)\n",
    "\n",
    "plt.figure(figsize=(10, 4))\n",
    "sns.heatmap(centroides,\n",
    "           annot=True,\n",
    "           fmt='.2f',\n",
    "           cmap='RdBu').xaxis.tick_top()\n",
    "plt.xticks(rotation=30, ha='left')\n",
    "plt.xlabel(\"Features\")\n",
    "plt.ylabel(\"Clusters\")\n",
    "plt.title(\"Heatmap de los centros de los clusters (k=5)\")\n",
    "plt.show()"
   ]
  },
  {
   "cell_type": "code",
   "execution_count": 25,
   "id": "96a1005c-b3ef-48aa-bd42-5235c03b719a",
   "metadata": {},
   "outputs": [
    {
     "data": {
      "text/plain": [
       "{0: {'top': ['promocion_ultimos_2_anos', 'antiguedad'],\n",
       "  'low': ['edad', 'cumplimiento_kpi']},\n",
       " 1: {'top': ['edad', 'cumplimiento_kpi'],\n",
       "  'low': ['puntaje_iniciativa', 'satisfaccion_laboral']},\n",
       " 2: {'top': ['horas_capacitacion', 'satisfaccion_laboral'],\n",
       "  'low': ['puntaje_feedback_lider', 'promocion_ultimos_2_anos']},\n",
       " 3: {'top': ['satisfaccion_laboral', 'antiguedad'],\n",
       "  'low': ['promocion_ultimos_2_anos', 'horas_capacitacion']},\n",
       " 4: {'top': ['puntaje_iniciativa', 'puntaje_feedback_lider'],\n",
       "  'low': ['cumplimiento_kpi', 'antiguedad']}}"
      ]
     },
     "execution_count": 25,
     "metadata": {},
     "output_type": "execute_result"
    }
   ],
   "source": [
    "#top_low_features(centroides)\n",
    "def top_low_features(z_row, top=2, low=2):\n",
    "    s = z_row.sort_values(ascending=False)\n",
    "    return {'top': s.index[:top].tolist(), 'low': s.index[-low:].tolist()}\n",
    "\n",
    "summary_profiles = {int(cl): top_low_features(centroides.loc[cl]) for cl in range(centroides.shape[0])}\n",
    "summary_profiles"
   ]
  },
  {
   "cell_type": "code",
   "execution_count": null,
   "id": "e43ea43f-2bc4-4429-906e-0b802f1b223d",
   "metadata": {},
   "outputs": [],
   "source": []
  },
  {
   "cell_type": "markdown",
   "id": "1a4b6430-4493-42d4-b619-7ea1109c425d",
   "metadata": {},
   "source": [
    "## 4. PERFILAMIENTO EJECUTIVO POR CLUSTER"
   ]
  },
  {
   "cell_type": "markdown",
   "id": "29ecc298-780b-455e-ac7b-f27c5d67cf44",
   "metadata": {},
   "source": [
    "🔵 **Cluster 0 – “Talento con Potencial de Ascenso”**\n",
    "\n",
    "- **Top features**: promocion_ultimos_2_anos, antiguedad\n",
    "- **Low features**: edad, cumplimiento_kpi\n",
    "\n",
    "- **Interpretación**: Grupo de empleados con fuerte historial de promociones recientes y experiencia consolidada, aunque con edad promedio y cumplimiento de KPIs más bajos. Representa un talento que la organización ya ha promovido, con potencial de seguir avanzando.\n",
    "\n",
    "- **Conclusión**: Perfil clave para planes de desarrollo acelerado. Mantener motivación e impulsar proyectos de alto impacto.\n",
    "\n",
    "- **Acciones recomendadas**:\n",
    ">   - Diseñar planes de movilidad interna y mentoring para sostener la proyección de carrera.\n",
    ">   - Asignar roles estratégicos que capitalicen su experiencia acumulada.\n"
   ]
  },
  {
   "cell_type": "markdown",
   "id": "3412e9cb-31ef-4a07-adb3-71d3e0c92a38",
   "metadata": {},
   "source": [
    "---\n",
    "🟠 **Cluster 1 – “Juventud con Desafíos de Compromiso”**\n",
    "\n",
    "- **Top features**: edad, cumplimiento_kpi\n",
    "- **Low features**: puntaje_iniciativa, satisfaccion_laboral\n",
    "\n",
    "- **Interpretación**: Empleados relativamente jóvenes, con cumplimiento aceptable en métricas de desempeño, pero con bajos niveles de iniciativa y satisfacción laboral. Pueden estar cumpliendo lo mínimo esperado sin compromiso adicional.\n",
    "\n",
    "- **Conclusión**: Perfil en riesgo de desmotivación. Necesita programas de engagement y coaching.\n",
    "\n",
    "- **Acciones recomendadas**:\n",
    ">   - Implementar programas de bienestar y escucha activa.\n",
    ">   - Desarrollar entrenamientos en liderazgo personal y proactividad.\n"
   ]
  },
  {
   "cell_type": "markdown",
   "id": "f74512ba-fbd9-4ac7-8b64-cbd79d127447",
   "metadata": {},
   "source": [
    "---\n",
    "🟢 **Cluster 2 – “Aprendices Motivados”**\n",
    "\n",
    "- **Top features**: horas_capacitacion, satisfaccion_laboral\n",
    "- **Low features**: puntaje_feedback_lider, promocion_ultimos_2_anos\n",
    "\n",
    "- **Interpretación**: Grupo que invierte en capacitación y muestra buena satisfacción laboral, aunque con baja retroalimentación positiva del líder y sin promociones recientes.\n",
    "\n",
    "- **Conclusión**: Perfil con motivación por aprender, pero que necesita reconocimiento y oportunidades de crecimiento.\n",
    "\n",
    "- **Acciones recomendadas**:\n",
    ">  - Fortalecer la calidad del feedback de líderes.\n",
    ">  - Crear programas de reconocimiento visibles y accesibles."
   ]
  },
  {
   "cell_type": "markdown",
   "id": "36c3206f-2ebc-4705-9ffd-4997b14d7bf9",
   "metadata": {},
   "source": [
    "---\n",
    "🔵 **Cluster 3 – “Comprometidos pero Estancados”**\n",
    "\n",
    "- **Top features**: satisfaccion_laboral, antiguedad\n",
    "- **Low features**: promocion_ultimos_2_anos, horas_capacitacion\n",
    "\n",
    "- **Interpretación**: Empleados con alta satisfacción y amplia permanencia en la empresa, pero con escasas promociones y poca capacitación. Son leales y comprometidos, pero con riesgo de estancamiento profesional.\n",
    "\n",
    "- **Conclusión**: Perfil estable, pero vulnerable a la desactualización. Requiere revitalización de carrera.\n",
    "\n",
    "- **Acciones recomendadas**:\n",
    ">   - Diseñar planes de actualización continua.\n",
    ">   - Promover la rotación horizontal para ampliar habilidades."
   ]
  },
  {
   "cell_type": "markdown",
   "id": "d90167d8-4e30-4278-894d-ddeaa0bd0d72",
   "metadata": {},
   "source": [
    "---\n",
    "🔴 **Cluster 4 – “Críticos de Gestión”**\n",
    "\n",
    "- **Top features**: puntaje_iniciativa, puntaje_feedback_lider\n",
    "- **Low features**: cumplimiento_kpi, antiguedad\n",
    "\n",
    "- **Interpretación**: Grupo con altos niveles de iniciativa y buen feedback de líderes, pero con bajo cumplimiento de KPIs y menor antigüedad. Representan colaboradores con alto potencial, aún en etapa de consolidación.\n",
    "\n",
    "- **Conclusión**: Perfil emergente con energía y liderazgo natural, pero que necesita consolidar su desempeño en resultados cuantitativos.\n",
    "\n",
    "- **Acciones recomendadas**:\n",
    ">  - Entrenar en gestión del tiempo y enfoque en objetivos.\n",
    ">  - Acompañamiento cercano para alinear energía con resultados."
   ]
  },
  {
   "cell_type": "markdown",
   "id": "06cc412c-fa66-4e4c-9f5b-cfc7adf46add",
   "metadata": {},
   "source": [
    "### 📈 **Conclusión General**\n",
    "\n",
    "La organización cuenta con una diversidad de perfiles que requieren estrategias diferenciadas. Destacan los clusters 0 y 2 como perfiles altamente aprovechables en términos de proyección y motivación. Los clusters 1 y 3 presentan oportunidades de mejora en compromiso y actualización, y deben ser reforzados con programas de acompañamiento y desarrollo. Finalmente, el cluster 4 representa un potencial emergente que necesita consolidación de resultados.\n",
    "\n",
    "Una correcta segmentación y activación de planes por cluster permitirá aumentar la eficiencia global en la gestión de talento, optimizando recursos de RRHH y elevando los indicadores de desempeño organizacional."
   ]
  },
  {
   "cell_type": "markdown",
   "id": "a4ffad8a-7a25-4a93-a948-544e42aa13bb",
   "metadata": {},
   "source": [
    "### 🚀 Producción: artefactos y función de inferencia\n",
    "Se guardan `preprocess.pkl` y `kmeans.pkl` y se expone función de inferencia segura con validación de esquema.\n"
   ]
  },
  {
   "cell_type": "code",
   "execution_count": 26,
   "id": "813e78bc-cbff-441b-95d1-5cc7c5821272",
   "metadata": {},
   "outputs": [
    {
     "data": {
      "text/plain": [
       "['./artifacts/kmeans.pkl']"
      ]
     },
     "execution_count": 26,
     "metadata": {},
     "output_type": "execute_result"
    }
   ],
   "source": [
    "ARTIFACTS_DIR = './artifacts'\n",
    "\n",
    "import joblib, platform\n",
    "joblib.dump(preprocess, f'{ARTIFACTS_DIR}/preprocess.pkl')\n",
    "joblib.dump(kmeans,    f'{ARTIFACTS_DIR}/kmeans.pkl')"
   ]
  },
  {
   "cell_type": "code",
   "execution_count": null,
   "id": "e1e28d75-6ac6-46f8-b1f8-640c4f84f167",
   "metadata": {},
   "outputs": [],
   "source": []
  }
 ],
 "metadata": {
  "kernelspec": {
   "display_name": "Python 3 (ipykernel)",
   "language": "python",
   "name": "python3"
  },
  "language_info": {
   "codemirror_mode": {
    "name": "ipython",
    "version": 3
   },
   "file_extension": ".py",
   "mimetype": "text/x-python",
   "name": "python",
   "nbconvert_exporter": "python",
   "pygments_lexer": "ipython3",
   "version": "3.13.2"
  }
 },
 "nbformat": 4,
 "nbformat_minor": 5
}
